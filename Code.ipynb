{
  "nbformat": 4,
  "nbformat_minor": 0,
  "metadata": {
    "colab": {
      "name": "Course Project DS303.ipynb",
      "provenance": [],
      "collapsed_sections": []
    },
    "kernelspec": {
      "name": "python3",
      "display_name": "Python 3"
    },
    "language_info": {
      "name": "python"
    }
  },
  "cells": [
    {
      "cell_type": "code",
      "metadata": {
        "id": "3Emd1EnDnar4",
        "colab": {
          "base_uri": "https://localhost:8080/",
          "height": 0
        },
        "outputId": "d68e7430-1103-4380-d242-9fdd802efb0b"
      },
      "source": [
        "#from google.colab import drive\n",
        "#drive.mount('/content/drive')"
      ],
      "execution_count": 1,
      "outputs": [
        {
          "output_type": "stream",
          "text": [
            "Mounted at /content/drive\n"
          ],
          "name": "stdout"
        }
      ]
    },
    {
      "cell_type": "code",
      "metadata": {
        "id": "CdMqvn8cYH5p"
      },
      "source": [
        "#importing various python libraries\n",
        "import pandas as pd\n",
        "import matplotlib.pyplot as plt\n",
        "import seaborn as sns\n",
        "import numpy as np\n",
        "from matplotlib.pyplot import figure\n",
        "from pylab import rcParams\n",
        "from matplotlib.patches import Patch #importing required library for plotting visualizations\n",
        "from matplotlib.lines import Line2D\n",
        "import warnings\n",
        "warnings.filterwarnings(\"ignore\")"
      ],
      "execution_count": 2,
      "outputs": []
    },
    {
      "cell_type": "code",
      "metadata": {
        "id": "HGmno3rtYKp2"
      },
      "source": [
        "#loading the dataset into dataframes\n",
        "df = pd.read_csv('https://raw.githubusercontent.com/labdhigandhi/FlightDelays/main/healthcare-dataset-stroke-data.csv')"
      ],
      "execution_count": 98,
      "outputs": []
    },
    {
      "cell_type": "code",
      "metadata": {
        "colab": {
          "base_uri": "https://localhost:8080/",
          "height": 204
        },
        "id": "pK0Po5RVYbR_",
        "outputId": "e5e65e07-c9d9-47a0-82b5-ae88e819caef"
      },
      "source": [
        "df.head() #displaying the first 5 entries of dataframe"
      ],
      "execution_count": 99,
      "outputs": [
        {
          "output_type": "execute_result",
          "data": {
            "text/html": [
              "<div>\n",
              "<style scoped>\n",
              "    .dataframe tbody tr th:only-of-type {\n",
              "        vertical-align: middle;\n",
              "    }\n",
              "\n",
              "    .dataframe tbody tr th {\n",
              "        vertical-align: top;\n",
              "    }\n",
              "\n",
              "    .dataframe thead th {\n",
              "        text-align: right;\n",
              "    }\n",
              "</style>\n",
              "<table border=\"1\" class=\"dataframe\">\n",
              "  <thead>\n",
              "    <tr style=\"text-align: right;\">\n",
              "      <th></th>\n",
              "      <th>id</th>\n",
              "      <th>gender</th>\n",
              "      <th>age</th>\n",
              "      <th>hypertension</th>\n",
              "      <th>heart_disease</th>\n",
              "      <th>ever_married</th>\n",
              "      <th>work_type</th>\n",
              "      <th>Residence_type</th>\n",
              "      <th>avg_glucose_level</th>\n",
              "      <th>bmi</th>\n",
              "      <th>smoking_status</th>\n",
              "      <th>stroke</th>\n",
              "    </tr>\n",
              "  </thead>\n",
              "  <tbody>\n",
              "    <tr>\n",
              "      <th>0</th>\n",
              "      <td>9046</td>\n",
              "      <td>Male</td>\n",
              "      <td>67.0</td>\n",
              "      <td>0</td>\n",
              "      <td>1</td>\n",
              "      <td>Yes</td>\n",
              "      <td>Private</td>\n",
              "      <td>Urban</td>\n",
              "      <td>228.69</td>\n",
              "      <td>36.6</td>\n",
              "      <td>formerly smoked</td>\n",
              "      <td>1</td>\n",
              "    </tr>\n",
              "    <tr>\n",
              "      <th>1</th>\n",
              "      <td>51676</td>\n",
              "      <td>Female</td>\n",
              "      <td>61.0</td>\n",
              "      <td>0</td>\n",
              "      <td>0</td>\n",
              "      <td>Yes</td>\n",
              "      <td>Self-employed</td>\n",
              "      <td>Rural</td>\n",
              "      <td>202.21</td>\n",
              "      <td>NaN</td>\n",
              "      <td>never smoked</td>\n",
              "      <td>1</td>\n",
              "    </tr>\n",
              "    <tr>\n",
              "      <th>2</th>\n",
              "      <td>31112</td>\n",
              "      <td>Male</td>\n",
              "      <td>80.0</td>\n",
              "      <td>0</td>\n",
              "      <td>1</td>\n",
              "      <td>Yes</td>\n",
              "      <td>Private</td>\n",
              "      <td>Rural</td>\n",
              "      <td>105.92</td>\n",
              "      <td>32.5</td>\n",
              "      <td>never smoked</td>\n",
              "      <td>1</td>\n",
              "    </tr>\n",
              "    <tr>\n",
              "      <th>3</th>\n",
              "      <td>60182</td>\n",
              "      <td>Female</td>\n",
              "      <td>49.0</td>\n",
              "      <td>0</td>\n",
              "      <td>0</td>\n",
              "      <td>Yes</td>\n",
              "      <td>Private</td>\n",
              "      <td>Urban</td>\n",
              "      <td>171.23</td>\n",
              "      <td>34.4</td>\n",
              "      <td>smokes</td>\n",
              "      <td>1</td>\n",
              "    </tr>\n",
              "    <tr>\n",
              "      <th>4</th>\n",
              "      <td>1665</td>\n",
              "      <td>Female</td>\n",
              "      <td>79.0</td>\n",
              "      <td>1</td>\n",
              "      <td>0</td>\n",
              "      <td>Yes</td>\n",
              "      <td>Self-employed</td>\n",
              "      <td>Rural</td>\n",
              "      <td>174.12</td>\n",
              "      <td>24.0</td>\n",
              "      <td>never smoked</td>\n",
              "      <td>1</td>\n",
              "    </tr>\n",
              "  </tbody>\n",
              "</table>\n",
              "</div>"
            ],
            "text/plain": [
              "      id  gender   age  ...   bmi   smoking_status stroke\n",
              "0   9046    Male  67.0  ...  36.6  formerly smoked      1\n",
              "1  51676  Female  61.0  ...   NaN     never smoked      1\n",
              "2  31112    Male  80.0  ...  32.5     never smoked      1\n",
              "3  60182  Female  49.0  ...  34.4           smokes      1\n",
              "4   1665  Female  79.0  ...  24.0     never smoked      1\n",
              "\n",
              "[5 rows x 12 columns]"
            ]
          },
          "metadata": {
            "tags": []
          },
          "execution_count": 99
        }
      ]
    },
    {
      "cell_type": "code",
      "metadata": {
        "colab": {
          "base_uri": "https://localhost:8080/",
          "height": 0
        },
        "id": "A4DIzj9oYgPo",
        "outputId": "ad20985a-8dff-4679-95aa-0c3f6b3f468f"
      },
      "source": [
        "print('Dataframe number of records = '+str(df.shape[0]))\n",
        "print('Dataframe number of variables (including the class) = '+str(df.shape[1]))"
      ],
      "execution_count": 60,
      "outputs": [
        {
          "output_type": "stream",
          "text": [
            "Dataframe number of records = 5110\n",
            "Dataframe number of variables (including the class) = 12\n"
          ],
          "name": "stdout"
        }
      ]
    },
    {
      "cell_type": "markdown",
      "metadata": {
        "id": "Y1L5iPu3Zbu7"
      },
      "source": [
        "##Preliminary Analysis:"
      ]
    },
    {
      "cell_type": "code",
      "metadata": {
        "colab": {
          "base_uri": "https://localhost:8080/"
        },
        "id": "dktL9oHIZJVx",
        "outputId": "f03d52cd-ea92-4d36-8517-0d5960a0d54a"
      },
      "source": [
        "df.dtypes #outputs the datatype of the variables"
      ],
      "execution_count": null,
      "outputs": [
        {
          "output_type": "execute_result",
          "data": {
            "text/plain": [
              "id                     int64\n",
              "gender                object\n",
              "age                  float64\n",
              "hypertension           int64\n",
              "heart_disease          int64\n",
              "ever_married          object\n",
              "work_type             object\n",
              "Residence_type        object\n",
              "avg_glucose_level    float64\n",
              "bmi                  float64\n",
              "smoking_status        object\n",
              "stroke                 int64\n",
              "dtype: object"
            ]
          },
          "metadata": {
            "tags": []
          },
          "execution_count": 92
        }
      ]
    },
    {
      "cell_type": "code",
      "metadata": {
        "colab": {
          "base_uri": "https://localhost:8080/"
        },
        "id": "JqKkc8mqZPQX",
        "outputId": "05e07921-c67c-41cd-f07b-2a9a7d232835"
      },
      "source": [
        "for column in df.columns.values: #outputting the number of unique values for each column of the dataset\n",
        "  listofunique= pd.unique(df[column])\n",
        "  print(column+ ' has ' + str(len(listofunique))+ ' unique values ')"
      ],
      "execution_count": null,
      "outputs": [
        {
          "output_type": "stream",
          "text": [
            "id has 5110 unique values \n",
            "gender has 3 unique values \n",
            "age has 104 unique values \n",
            "hypertension has 2 unique values \n",
            "heart_disease has 2 unique values \n",
            "ever_married has 2 unique values \n",
            "work_type has 5 unique values \n",
            "Residence_type has 2 unique values \n",
            "avg_glucose_level has 3979 unique values \n",
            "bmi has 419 unique values \n",
            "smoking_status has 4 unique values \n",
            "stroke has 2 unique values \n"
          ],
          "name": "stdout"
        }
      ]
    },
    {
      "cell_type": "code",
      "metadata": {
        "colab": {
          "base_uri": "https://localhost:8080/"
        },
        "id": "8EGfntx2ZS0B",
        "outputId": "f676f436-fa28-4e8b-c830-068bf9d12565"
      },
      "source": [
        "for column in df.columns.values: #outputting the number of null values for each column of the dataset\n",
        "  print(column+ ' has ' + str(df[column].isna().sum()) + ' null values ')"
      ],
      "execution_count": null,
      "outputs": [
        {
          "output_type": "stream",
          "text": [
            "id has 0 null values \n",
            "gender has 0 null values \n",
            "age has 0 null values \n",
            "hypertension has 0 null values \n",
            "heart_disease has 0 null values \n",
            "ever_married has 0 null values \n",
            "work_type has 0 null values \n",
            "Residence_type has 0 null values \n",
            "avg_glucose_level has 0 null values \n",
            "bmi has 201 null values \n",
            "smoking_status has 0 null values \n",
            "stroke has 0 null values \n"
          ],
          "name": "stdout"
        }
      ]
    },
    {
      "cell_type": "markdown",
      "metadata": {
        "id": "EfoAyUOaI8mx"
      },
      "source": [
        "Therefore, only bmi has null values (201), and 'id' is unique for every record present in the dataset."
      ]
    },
    {
      "cell_type": "code",
      "metadata": {
        "id": "_y3KHVPGd9fz"
      },
      "source": [
        "df=df.dropna() #dropping those records having null value as an entry"
      ],
      "execution_count": 100,
      "outputs": []
    },
    {
      "cell_type": "code",
      "metadata": {
        "colab": {
          "base_uri": "https://localhost:8080/",
          "height": 0
        },
        "id": "yDjE7f1eesAF",
        "outputId": "4df19717-da01-456c-f44f-dc860c057a7c"
      },
      "source": [
        "print('Dataframe number of records = '+str(df.shape[0])) #new number of records after dropping those having bmi as null value entry"
      ],
      "execution_count": 7,
      "outputs": [
        {
          "output_type": "stream",
          "text": [
            "Dataframe number of records = 4909\n"
          ],
          "name": "stdout"
        }
      ]
    },
    {
      "cell_type": "markdown",
      "metadata": {
        "id": "P6ruTYC_c0sr"
      },
      "source": [
        "##Exploratory Data Analysis:"
      ]
    },
    {
      "cell_type": "code",
      "metadata": {
        "colab": {
          "base_uri": "https://localhost:8080/",
          "height": 1000
        },
        "id": "_GwhE4pJZWng",
        "outputId": "036f93c0-816d-4867-c835-45868008f1aa"
      },
      "source": [
        "#plotting histograms of all the columns\n",
        "df2=df.drop(columns=['id']) #dropping columns which have no sense in plotting a histogram for\n",
        "for col in df2.columns.values:\n",
        " print('The histogram for '+col+' is: ')\n",
        " plt.hist(df2[col], bins=30)\n",
        " plt.title('Histogram for '+col)\n",
        " print()\n",
        " plt.xlabel(col)\n",
        " plt.ylabel('Frequency')\n",
        " rcParams['figure.figsize'] = 10, 5\n",
        " plt.show();"
      ],
      "execution_count": null,
      "outputs": [
        {
          "output_type": "stream",
          "text": [
            "The histogram for gender is: \n",
            "\n"
          ],
          "name": "stdout"
        },
        {
          "output_type": "display_data",
          "data": {
            "image/png": "[encoded data removed]",
            "text/plain": [
              "<Figure size 720x360 with 1 Axes>"
            ]
          },
          "metadata": {
            "tags": []
          }
        },
        {
          "output_type": "stream",
          "text": [
            "The histogram for age is: \n",
            "\n"
          ],
          "name": "stdout"
        },
        {
          "output_type": "display_data",
          "data": {
            "image/png": "[encoded data removed]",
            "text/plain": [
              "<Figure size 720x360 with 1 Axes>"
            ]
          },
          "metadata": {
            "tags": []
          }
        },
        {
          "output_type": "stream",
          "text": [
            "The histogram for hypertension is: \n",
            "\n"
          ],
          "name": "stdout"
        },
        {
          "output_type": "display_data",
          "data": {
            "image/png": "[encoded data removed]",
            "text/plain": [
              "<Figure size 720x360 with 1 Axes>"
            ]
          },
          "metadata": {
            "tags": []
          }
        },
        {
          "output_type": "stream",
          "text": [
            "The histogram for heart_disease is: \n",
            "\n"
          ],
          "name": "stdout"
        },
        {
          "output_type": "display_data",
          "data": {
            "image/png": "[encoded data removed]",
            "text/plain": [
              "<Figure size 720x360 with 1 Axes>"
            ]
          },
          "metadata": {
            "tags": []
          }
        },
        {
          "output_type": "stream",
          "text": [
            "The histogram for ever_married is: \n",
            "\n"
          ],
          "name": "stdout"
        },
        {
          "output_type": "display_data",
          "data": {
            "image/png": "[encoded data removed]",
            "text/plain": [
              "<Figure size 720x360 with 1 Axes>"
            ]
          },
          "metadata": {
            "tags": []
          }
        },
        {
          "output_type": "stream",
          "text": [
            "The histogram for work_type is: \n",
            "\n"
          ],
          "name": "stdout"
        },
        {
          "output_type": "display_data",
          "data": {
            "image/png": "[encoded data removed]",
            "text/plain": [
              "<Figure size 720x360 with 1 Axes>"
            ]
          },
          "metadata": {
            "tags": []
          }
        },
        {
          "output_type": "stream",
          "text": [
            "The histogram for Residence_type is: \n",
            "\n"
          ],
          "name": "stdout"
        },
        {
          "output_type": "display_data",
          "data": {
            "image/png": "[encoded data removed]",
            "text/plain": [
              "<Figure size 720x360 with 1 Axes>"
            ]
          },
          "metadata": {
            "tags": []
          }
        },
        {
          "output_type": "stream",
          "text": [
            "The histogram for avg_glucose_level is: \n",
            "\n"
          ],
          "name": "stdout"
        },
        {
          "output_type": "display_data",
          "data": {
            "image/png": "[encoded data removed]",
            "text/plain": [
              "<Figure size 720x360 with 1 Axes>"
            ]
          },
          "metadata": {
            "tags": []
          }
        },
        {
          "output_type": "stream",
          "text": [
            "The histogram for bmi is: \n",
            "\n"
          ],
          "name": "stdout"
        },
        {
          "output_type": "display_data",
          "data": {
            "image/png": "[encoded data removed]",
            "text/plain": [
              "<Figure size 720x360 with 1 Axes>"
            ]
          },
          "metadata": {
            "tags": []
          }
        },
        {
          "output_type": "stream",
          "text": [
            "The histogram for smoking_status is: \n",
            "\n"
          ],
          "name": "stdout"
        },
        {
          "output_type": "display_data",
          "data": {
            "image/png": "[encoded data removed]",
            "text/plain": [
              "<Figure size 720x360 with 1 Axes>"
            ]
          },
          "metadata": {
            "tags": []
          }
        },
        {
          "output_type": "stream",
          "text": [
            "The histogram for stroke is: \n",
            "\n"
          ],
          "name": "stdout"
        },
        {
          "output_type": "display_data",
          "data": {
            "image/png": "[encoded data removed]",
            "text/plain": [
              "<Figure size 720x360 with 1 Axes>"
            ]
          },
          "metadata": {
            "tags": []
          }
        }
      ]
    },
    {
      "cell_type": "markdown",
      "metadata": {
        "id": "4qy10F0jIokg"
      },
      "source": [
        "From the above, we get an idea as to how our variables are distributed."
      ]
    },
    {
      "cell_type": "code",
      "metadata": {
        "colab": {
          "base_uri": "https://localhost:8080/",
          "height": 521
        },
        "id": "XpG-_EQ-dOfN",
        "outputId": "e594ac42-ab7e-45d3-8268-8e424ff1ebc0"
      },
      "source": [
        "#Plotting a heatmap to see the correlation between the various continuous variables\n",
        "figure(num=None, figsize=(8, 6), dpi=80, facecolor='w', edgecolor='k')\n",
        "sns.heatmap(df.corr(), annot=True, fmt=\".2f\")\n",
        "plt.show()"
      ],
      "execution_count": null,
      "outputs": [
        {
          "output_type": "display_data",
          "data": {
            "image/png": "[encoded data removed]",
            "text/plain": [
              "<Figure size 640x480 with 2 Axes>"
            ]
          },
          "metadata": {
            "tags": []
          }
        }
      ]
    },
    {
      "cell_type": "markdown",
      "metadata": {
        "id": "8_v9oYHAJg4G"
      },
      "source": [
        "The heatmap shows us that id has no correlation to any feature, which was expected. The maximum correlation is 0.33 between age and bmi, and all features are positively correlated, i.e, if one increases the other also increases."
      ]
    },
    {
      "cell_type": "code",
      "metadata": {
        "colab": {
          "base_uri": "https://localhost:8080/",
          "height": 905
        },
        "id": "BCKz2HqWdlwg",
        "outputId": "0d8e1d3c-d9e1-4a8d-ecb8-81979081c9b1"
      },
      "source": [
        "#Plotting the QQ Plots of the continuous numerical variables\n",
        "import statsmodels.api as sm\n",
        "import warnings\n",
        "warnings.filterwarnings('ignore')\n",
        "continuousvariables=['age', 'avg_glucose_level', 'bmi']\n",
        "for variable in continuousvariables:\n",
        " print('The qq plot for '+ variable + ' is: ')\n",
        " fig = sm.qqplot(df[variable],line='s')\n",
        " plt.show();\n",
        " print()"
      ],
      "execution_count": 8,
      "outputs": [
        {
          "output_type": "stream",
          "text": [
            "The qq plot for age is: \n"
          ],
          "name": "stdout"
        },
        {
          "output_type": "display_data",
          "data": {
            "image/png": "[encoded data removed]",
            "text/plain": [
              "<Figure size 432x288 with 1 Axes>"
            ]
          },
          "metadata": {
            "tags": [],
            "needs_background": "light"
          }
        },
        {
          "output_type": "stream",
          "text": [
            "\n",
            "The qq plot for avg_glucose_level is: \n"
          ],
          "name": "stdout"
        },
        {
          "output_type": "display_data",
          "data": {
            "image/png": "[encoded data removed]",
            "text/plain": [
              "<Figure size 432x288 with 1 Axes>"
            ]
          },
          "metadata": {
            "tags": [],
            "needs_background": "light"
          }
        },
        {
          "output_type": "stream",
          "text": [
            "\n",
            "The qq plot for bmi is: \n"
          ],
          "name": "stdout"
        },
        {
          "output_type": "display_data",
          "data": {
            "image/png": "[encoded data removed]",
            "text/plain": [
              "<Figure size 432x288 with 1 Axes>"
            ]
          },
          "metadata": {
            "tags": [],
            "needs_background": "light"
          }
        },
        {
          "output_type": "stream",
          "text": [
            "\n"
          ],
          "name": "stdout"
        }
      ]
    },
    {
      "cell_type": "markdown",
      "metadata": {
        "id": "XpxjY3EFJ32X"
      },
      "source": [
        "From the above Quantile Quantile plot, we infer how the continuous variables are distributed (blue line) wrt a normal Gaussian distribution (red line). The variable bmi and age are majorly normal distributed, but average glucose level is very skewed."
      ]
    },
    {
      "cell_type": "code",
      "metadata": {
        "colab": {
          "base_uri": "https://localhost:8080/",
          "height": 399
        },
        "id": "UPGITdiTe8vx",
        "outputId": "78d5fc23-751e-41c9-875e-4bbb2cd5c31c"
      },
      "source": [
        "#To visualize how work type affects the possibility of a stroke occuring\n",
        "print('Count of stroke and non-stroke patients vs. their work type situation')\n",
        "fig, ax = plt.subplots()\n",
        "\n",
        "sns.catplot('work_type', hue=\"stroke\", data=df, kind=\"count\", \n",
        "            palette={0:\"green\", 1:\"red\"}, ax=ax)\n",
        "\n",
        "\n",
        "plt.close(1)\n",
        "ax.set_xlabel(\"Work type\")\n",
        "\n",
        "color_patches = [\n",
        "    Patch(facecolor=\"green\", label='Never experienced stroke'),\n",
        "    Patch(facecolor=\"red\", label=\"Experienced stroke\")\n",
        "]\n",
        "ax.legend(handles=color_patches)\n",
        "\n",
        "plt.show();"
      ],
      "execution_count": null,
      "outputs": [
        {
          "output_type": "stream",
          "text": [
            "Count of stroke and non-stroke patients vs. their work type situation\n"
          ],
          "name": "stdout"
        },
        {
          "output_type": "display_data",
          "data": {
            "image/png": "[encoded data removed]",
            "text/plain": [
              "<Figure size 406.6x360 with 1 Axes>"
            ]
          },
          "metadata": {
            "tags": []
          }
        }
      ]
    },
    {
      "cell_type": "markdown",
      "metadata": {
        "id": "VgNmIwsBKrPf"
      },
      "source": [
        "From the above catplot, we can observe that there is no children or never worked patients with the possibility of a stroke, as expected given their age must be less. For the remaining three, the data isnt recorded equally amongst them, so no exact conclusion can be made."
      ]
    },
    {
      "cell_type": "code",
      "metadata": {
        "colab": {
          "base_uri": "https://localhost:8080/",
          "height": 375
        },
        "id": "xLEAIjTcj25z",
        "outputId": "37f841fd-33b9-46c3-f912-2b4e0df7ed3e"
      },
      "source": [
        "#To see how age affects the possibility of a stroke occuring\n",
        "fig, ax = plt.subplots()\n",
        "\n",
        "sns.boxplot(x=\"age\", y=\"stroke\", data=df, orient=\"h\", palette={0:\"green\", 1:\"orange\"}, ax=ax)\n",
        "\n",
        "ax.get_yaxis().set_visible(False)\n",
        "\n",
        "fig.suptitle(\"Age vs. Stroke experience comparison using boxplots\")\n",
        "color_patches = [\n",
        "    Patch(facecolor=\"green\", label=\"Never experienced stroke\"),\n",
        "    Patch(facecolor=\"orange\", label=\"Experienced stroke\")\n",
        "]\n",
        "ax.legend(handles=color_patches);"
      ],
      "execution_count": null,
      "outputs": [
        {
          "output_type": "display_data",
          "data": {
            "image/png": "[encoded data removed]",
            "text/plain": [
              "<Figure size 720x360 with 1 Axes>"
            ]
          },
          "metadata": {
            "tags": []
          }
        }
      ]
    },
    {
      "cell_type": "markdown",
      "metadata": {
        "id": "s5WbIds7MoAs"
      },
      "source": [
        "From the above boxplots we infer that the average age when stroke occurs is greater than that if no stroke occurs, as expected usually. The upper quartile of no-stroke occuring is approximately at the same age of lower quartile of a stroke occuring. "
      ]
    },
    {
      "cell_type": "code",
      "metadata": {
        "id": "YuevSidvlelT",
        "colab": {
          "base_uri": "https://localhost:8080/",
          "height": 375
        },
        "outputId": "94ee7566-973a-4a34-e057-16b16abc3ecf"
      },
      "source": [
        "#To see how average glucose level affects the possibility of a stroke occuring\n",
        "fig, ax = plt.subplots()\n",
        "\n",
        "sns.boxplot(x=\"avg_glucose_level\", y=\"stroke\", data=df, orient=\"h\", palette={0:\"green\", 1:\"orange\"}, ax=ax)\n",
        "\n",
        "ax.get_yaxis().set_visible(False)\n",
        "\n",
        "fig.suptitle(\"Average glucose level vs. stroke experience comparison using boxplots\")\n",
        "color_patches = [\n",
        "    Patch(facecolor=\"green\", label=\"Never experienced stroke\"),\n",
        "    Patch(facecolor=\"orange\", label=\"Experienced stroke\")\n",
        "]\n",
        "ax.legend(handles=color_patches);"
      ],
      "execution_count": null,
      "outputs": [
        {
          "output_type": "display_data",
          "data": {
            "image/png": "[encoded data removed]",
            "text/plain": [
              "<Figure size 720x360 with 1 Axes>"
            ]
          },
          "metadata": {
            "tags": []
          }
        }
      ]
    },
    {
      "cell_type": "markdown",
      "metadata": {
        "id": "8Bf8aeZBNHni"
      },
      "source": [
        "From the boxplots we infer that the possiblity of stroke taking place is greater for those with higher glucose level, though the green boxplot has a high numbe out outliers as well."
      ]
    },
    {
      "cell_type": "markdown",
      "metadata": {
        "id": "z3t0C5mEhVSR"
      },
      "source": [
        "##Data Pre-processing:"
      ]
    },
    {
      "cell_type": "code",
      "metadata": {
        "id": "gJNHvK7MhX6f"
      },
      "source": [
        "df=df.drop(columns=['id']) #dropping features which have no relation to the target variable at all and have huge no. of unique values"
      ],
      "execution_count": 101,
      "outputs": []
    },
    {
      "cell_type": "code",
      "metadata": {
        "colab": {
          "base_uri": "https://localhost:8080/",
          "height": 456
        },
        "id": "c5L2Y90JhaMy",
        "outputId": "d9822f21-1943-4fc7-aff7-0aa5ce6fa077"
      },
      "source": [
        "#One-hot encoding categorical variables\n",
        "categorical_cols = ['gender','ever_married','work_type','Residence_type','smoking_status']  \n",
        "df = pd.get_dummies(df, columns = categorical_cols)\n",
        "\n",
        "display(df)"
      ],
      "execution_count": 102,
      "outputs": [
        {
          "output_type": "display_data",
          "data": {
            "text/html": [
              "<div>\n",
              "<style scoped>\n",
              "    .dataframe tbody tr th:only-of-type {\n",
              "        vertical-align: middle;\n",
              "    }\n",
              "\n",
              "    .dataframe tbody tr th {\n",
              "        vertical-align: top;\n",
              "    }\n",
              "\n",
              "    .dataframe thead th {\n",
              "        text-align: right;\n",
              "    }\n",
              "</style>\n",
              "<table border=\"1\" class=\"dataframe\">\n",
              "  <thead>\n",
              "    <tr style=\"text-align: right;\">\n",
              "      <th></th>\n",
              "      <th>age</th>\n",
              "      <th>hypertension</th>\n",
              "      <th>heart_disease</th>\n",
              "      <th>avg_glucose_level</th>\n",
              "      <th>bmi</th>\n",
              "      <th>stroke</th>\n",
              "      <th>gender_Female</th>\n",
              "      <th>gender_Male</th>\n",
              "      <th>gender_Other</th>\n",
              "      <th>ever_married_No</th>\n",
              "      <th>ever_married_Yes</th>\n",
              "      <th>work_type_Govt_job</th>\n",
              "      <th>work_type_Never_worked</th>\n",
              "      <th>work_type_Private</th>\n",
              "      <th>work_type_Self-employed</th>\n",
              "      <th>work_type_children</th>\n",
              "      <th>Residence_type_Rural</th>\n",
              "      <th>Residence_type_Urban</th>\n",
              "      <th>smoking_status_Unknown</th>\n",
              "      <th>smoking_status_formerly smoked</th>\n",
              "      <th>smoking_status_never smoked</th>\n",
              "      <th>smoking_status_smokes</th>\n",
              "    </tr>\n",
              "  </thead>\n",
              "  <tbody>\n",
              "    <tr>\n",
              "      <th>0</th>\n",
              "      <td>67.0</td>\n",
              "      <td>0</td>\n",
              "      <td>1</td>\n",
              "      <td>228.69</td>\n",
              "      <td>36.6</td>\n",
              "      <td>1</td>\n",
              "      <td>0</td>\n",
              "      <td>1</td>\n",
              "      <td>0</td>\n",
              "      <td>0</td>\n",
              "      <td>1</td>\n",
              "      <td>0</td>\n",
              "      <td>0</td>\n",
              "      <td>1</td>\n",
              "      <td>0</td>\n",
              "      <td>0</td>\n",
              "      <td>0</td>\n",
              "      <td>1</td>\n",
              "      <td>0</td>\n",
              "      <td>1</td>\n",
              "      <td>0</td>\n",
              "      <td>0</td>\n",
              "    </tr>\n",
              "    <tr>\n",
              "      <th>2</th>\n",
              "      <td>80.0</td>\n",
              "      <td>0</td>\n",
              "      <td>1</td>\n",
              "      <td>105.92</td>\n",
              "      <td>32.5</td>\n",
              "      <td>1</td>\n",
              "      <td>0</td>\n",
              "      <td>1</td>\n",
              "      <td>0</td>\n",
              "      <td>0</td>\n",
              "      <td>1</td>\n",
              "      <td>0</td>\n",
              "      <td>0</td>\n",
              "      <td>1</td>\n",
              "      <td>0</td>\n",
              "      <td>0</td>\n",
              "      <td>1</td>\n",
              "      <td>0</td>\n",
              "      <td>0</td>\n",
              "      <td>0</td>\n",
              "      <td>1</td>\n",
              "      <td>0</td>\n",
              "    </tr>\n",
              "    <tr>\n",
              "      <th>3</th>\n",
              "      <td>49.0</td>\n",
              "      <td>0</td>\n",
              "      <td>0</td>\n",
              "      <td>171.23</td>\n",
              "      <td>34.4</td>\n",
              "      <td>1</td>\n",
              "      <td>1</td>\n",
              "      <td>0</td>\n",
              "      <td>0</td>\n",
              "      <td>0</td>\n",
              "      <td>1</td>\n",
              "      <td>0</td>\n",
              "      <td>0</td>\n",
              "      <td>1</td>\n",
              "      <td>0</td>\n",
              "      <td>0</td>\n",
              "      <td>0</td>\n",
              "      <td>1</td>\n",
              "      <td>0</td>\n",
              "      <td>0</td>\n",
              "      <td>0</td>\n",
              "      <td>1</td>\n",
              "    </tr>\n",
              "    <tr>\n",
              "      <th>4</th>\n",
              "      <td>79.0</td>\n",
              "      <td>1</td>\n",
              "      <td>0</td>\n",
              "      <td>174.12</td>\n",
              "      <td>24.0</td>\n",
              "      <td>1</td>\n",
              "      <td>1</td>\n",
              "      <td>0</td>\n",
              "      <td>0</td>\n",
              "      <td>0</td>\n",
              "      <td>1</td>\n",
              "      <td>0</td>\n",
              "      <td>0</td>\n",
              "      <td>0</td>\n",
              "      <td>1</td>\n",
              "      <td>0</td>\n",
              "      <td>1</td>\n",
              "      <td>0</td>\n",
              "      <td>0</td>\n",
              "      <td>0</td>\n",
              "      <td>1</td>\n",
              "      <td>0</td>\n",
              "    </tr>\n",
              "    <tr>\n",
              "      <th>5</th>\n",
              "      <td>81.0</td>\n",
              "      <td>0</td>\n",
              "      <td>0</td>\n",
              "      <td>186.21</td>\n",
              "      <td>29.0</td>\n",
              "      <td>1</td>\n",
              "      <td>0</td>\n",
              "      <td>1</td>\n",
              "      <td>0</td>\n",
              "      <td>0</td>\n",
              "      <td>1</td>\n",
              "      <td>0</td>\n",
              "      <td>0</td>\n",
              "      <td>1</td>\n",
              "      <td>0</td>\n",
              "      <td>0</td>\n",
              "      <td>0</td>\n",
              "      <td>1</td>\n",
              "      <td>0</td>\n",
              "      <td>1</td>\n",
              "      <td>0</td>\n",
              "      <td>0</td>\n",
              "    </tr>\n",
              "    <tr>\n",
              "      <th>...</th>\n",
              "      <td>...</td>\n",
              "      <td>...</td>\n",
              "      <td>...</td>\n",
              "      <td>...</td>\n",
              "      <td>...</td>\n",
              "      <td>...</td>\n",
              "      <td>...</td>\n",
              "      <td>...</td>\n",
              "      <td>...</td>\n",
              "      <td>...</td>\n",
              "      <td>...</td>\n",
              "      <td>...</td>\n",
              "      <td>...</td>\n",
              "      <td>...</td>\n",
              "      <td>...</td>\n",
              "      <td>...</td>\n",
              "      <td>...</td>\n",
              "      <td>...</td>\n",
              "      <td>...</td>\n",
              "      <td>...</td>\n",
              "      <td>...</td>\n",
              "      <td>...</td>\n",
              "    </tr>\n",
              "    <tr>\n",
              "      <th>5104</th>\n",
              "      <td>13.0</td>\n",
              "      <td>0</td>\n",
              "      <td>0</td>\n",
              "      <td>103.08</td>\n",
              "      <td>18.6</td>\n",
              "      <td>0</td>\n",
              "      <td>1</td>\n",
              "      <td>0</td>\n",
              "      <td>0</td>\n",
              "      <td>1</td>\n",
              "      <td>0</td>\n",
              "      <td>0</td>\n",
              "      <td>0</td>\n",
              "      <td>0</td>\n",
              "      <td>0</td>\n",
              "      <td>1</td>\n",
              "      <td>1</td>\n",
              "      <td>0</td>\n",
              "      <td>1</td>\n",
              "      <td>0</td>\n",
              "      <td>0</td>\n",
              "      <td>0</td>\n",
              "    </tr>\n",
              "    <tr>\n",
              "      <th>5106</th>\n",
              "      <td>81.0</td>\n",
              "      <td>0</td>\n",
              "      <td>0</td>\n",
              "      <td>125.20</td>\n",
              "      <td>40.0</td>\n",
              "      <td>0</td>\n",
              "      <td>1</td>\n",
              "      <td>0</td>\n",
              "      <td>0</td>\n",
              "      <td>0</td>\n",
              "      <td>1</td>\n",
              "      <td>0</td>\n",
              "      <td>0</td>\n",
              "      <td>0</td>\n",
              "      <td>1</td>\n",
              "      <td>0</td>\n",
              "      <td>0</td>\n",
              "      <td>1</td>\n",
              "      <td>0</td>\n",
              "      <td>0</td>\n",
              "      <td>1</td>\n",
              "      <td>0</td>\n",
              "    </tr>\n",
              "    <tr>\n",
              "      <th>5107</th>\n",
              "      <td>35.0</td>\n",
              "      <td>0</td>\n",
              "      <td>0</td>\n",
              "      <td>82.99</td>\n",
              "      <td>30.6</td>\n",
              "      <td>0</td>\n",
              "      <td>1</td>\n",
              "      <td>0</td>\n",
              "      <td>0</td>\n",
              "      <td>0</td>\n",
              "      <td>1</td>\n",
              "      <td>0</td>\n",
              "      <td>0</td>\n",
              "      <td>0</td>\n",
              "      <td>1</td>\n",
              "      <td>0</td>\n",
              "      <td>1</td>\n",
              "      <td>0</td>\n",
              "      <td>0</td>\n",
              "      <td>0</td>\n",
              "      <td>1</td>\n",
              "      <td>0</td>\n",
              "    </tr>\n",
              "    <tr>\n",
              "      <th>5108</th>\n",
              "      <td>51.0</td>\n",
              "      <td>0</td>\n",
              "      <td>0</td>\n",
              "      <td>166.29</td>\n",
              "      <td>25.6</td>\n",
              "      <td>0</td>\n",
              "      <td>0</td>\n",
              "      <td>1</td>\n",
              "      <td>0</td>\n",
              "      <td>0</td>\n",
              "      <td>1</td>\n",
              "      <td>0</td>\n",
              "      <td>0</td>\n",
              "      <td>1</td>\n",
              "      <td>0</td>\n",
              "      <td>0</td>\n",
              "      <td>1</td>\n",
              "      <td>0</td>\n",
              "      <td>0</td>\n",
              "      <td>1</td>\n",
              "      <td>0</td>\n",
              "      <td>0</td>\n",
              "    </tr>\n",
              "    <tr>\n",
              "      <th>5109</th>\n",
              "      <td>44.0</td>\n",
              "      <td>0</td>\n",
              "      <td>0</td>\n",
              "      <td>85.28</td>\n",
              "      <td>26.2</td>\n",
              "      <td>0</td>\n",
              "      <td>1</td>\n",
              "      <td>0</td>\n",
              "      <td>0</td>\n",
              "      <td>0</td>\n",
              "      <td>1</td>\n",
              "      <td>1</td>\n",
              "      <td>0</td>\n",
              "      <td>0</td>\n",
              "      <td>0</td>\n",
              "      <td>0</td>\n",
              "      <td>0</td>\n",
              "      <td>1</td>\n",
              "      <td>1</td>\n",
              "      <td>0</td>\n",
              "      <td>0</td>\n",
              "      <td>0</td>\n",
              "    </tr>\n",
              "  </tbody>\n",
              "</table>\n",
              "<p>4909 rows × 22 columns</p>\n",
              "</div>"
            ],
            "text/plain": [
              "       age  hypertension  ...  smoking_status_never smoked  smoking_status_smokes\n",
              "0     67.0             0  ...                            0                      0\n",
              "2     80.0             0  ...                            1                      0\n",
              "3     49.0             0  ...                            0                      1\n",
              "4     79.0             1  ...                            1                      0\n",
              "5     81.0             0  ...                            0                      0\n",
              "...    ...           ...  ...                          ...                    ...\n",
              "5104  13.0             0  ...                            0                      0\n",
              "5106  81.0             0  ...                            1                      0\n",
              "5107  35.0             0  ...                            1                      0\n",
              "5108  51.0             0  ...                            0                      0\n",
              "5109  44.0             0  ...                            0                      0\n",
              "\n",
              "[4909 rows x 22 columns]"
            ]
          },
          "metadata": {
            "tags": []
          }
        }
      ]
    },
    {
      "cell_type": "code",
      "metadata": {
        "colab": {
          "base_uri": "https://localhost:8080/",
          "height": 456
        },
        "id": "JOxgLTO5h4M2",
        "outputId": "80a45d48-c567-4ede-c060-efcd70d03ab3"
      },
      "source": [
        "#Scaling continuous variables\n",
        "continuousvariables=['age', 'avg_glucose_level', 'bmi']\n",
        "for col in continuousvariables:\n",
        "  df[col]=(df[col]-df[col].mean())/df[col].std()\n",
        "display(df)"
      ],
      "execution_count": 103,
      "outputs": [
        {
          "output_type": "display_data",
          "data": {
            "text/html": [
              "<div>\n",
              "<style scoped>\n",
              "    .dataframe tbody tr th:only-of-type {\n",
              "        vertical-align: middle;\n",
              "    }\n",
              "\n",
              "    .dataframe tbody tr th {\n",
              "        vertical-align: top;\n",
              "    }\n",
              "\n",
              "    .dataframe thead th {\n",
              "        text-align: right;\n",
              "    }\n",
              "</style>\n",
              "<table border=\"1\" class=\"dataframe\">\n",
              "  <thead>\n",
              "    <tr style=\"text-align: right;\">\n",
              "      <th></th>\n",
              "      <th>age</th>\n",
              "      <th>hypertension</th>\n",
              "      <th>heart_disease</th>\n",
              "      <th>avg_glucose_level</th>\n",
              "      <th>bmi</th>\n",
              "      <th>stroke</th>\n",
              "      <th>gender_Female</th>\n",
              "      <th>gender_Male</th>\n",
              "      <th>gender_Other</th>\n",
              "      <th>ever_married_No</th>\n",
              "      <th>ever_married_Yes</th>\n",
              "      <th>work_type_Govt_job</th>\n",
              "      <th>work_type_Never_worked</th>\n",
              "      <th>work_type_Private</th>\n",
              "      <th>work_type_Self-employed</th>\n",
              "      <th>work_type_children</th>\n",
              "      <th>Residence_type_Rural</th>\n",
              "      <th>Residence_type_Urban</th>\n",
              "      <th>smoking_status_Unknown</th>\n",
              "      <th>smoking_status_formerly smoked</th>\n",
              "      <th>smoking_status_never smoked</th>\n",
              "      <th>smoking_status_smokes</th>\n",
              "    </tr>\n",
              "  </thead>\n",
              "  <tbody>\n",
              "    <tr>\n",
              "      <th>0</th>\n",
              "      <td>1.070029</td>\n",
              "      <td>0</td>\n",
              "      <td>1</td>\n",
              "      <td>2.777415</td>\n",
              "      <td>0.981245</td>\n",
              "      <td>1</td>\n",
              "      <td>0</td>\n",
              "      <td>1</td>\n",
              "      <td>0</td>\n",
              "      <td>0</td>\n",
              "      <td>1</td>\n",
              "      <td>0</td>\n",
              "      <td>0</td>\n",
              "      <td>1</td>\n",
              "      <td>0</td>\n",
              "      <td>0</td>\n",
              "      <td>0</td>\n",
              "      <td>1</td>\n",
              "      <td>0</td>\n",
              "      <td>1</td>\n",
              "      <td>0</td>\n",
              "      <td>0</td>\n",
              "    </tr>\n",
              "    <tr>\n",
              "      <th>2</th>\n",
              "      <td>1.646395</td>\n",
              "      <td>0</td>\n",
              "      <td>1</td>\n",
              "      <td>0.013840</td>\n",
              "      <td>0.459222</td>\n",
              "      <td>1</td>\n",
              "      <td>0</td>\n",
              "      <td>1</td>\n",
              "      <td>0</td>\n",
              "      <td>0</td>\n",
              "      <td>1</td>\n",
              "      <td>0</td>\n",
              "      <td>0</td>\n",
              "      <td>1</td>\n",
              "      <td>0</td>\n",
              "      <td>0</td>\n",
              "      <td>1</td>\n",
              "      <td>0</td>\n",
              "      <td>0</td>\n",
              "      <td>0</td>\n",
              "      <td>1</td>\n",
              "      <td>0</td>\n",
              "    </tr>\n",
              "    <tr>\n",
              "      <th>3</th>\n",
              "      <td>0.271984</td>\n",
              "      <td>0</td>\n",
              "      <td>0</td>\n",
              "      <td>1.483980</td>\n",
              "      <td>0.701135</td>\n",
              "      <td>1</td>\n",
              "      <td>1</td>\n",
              "      <td>0</td>\n",
              "      <td>0</td>\n",
              "      <td>0</td>\n",
              "      <td>1</td>\n",
              "      <td>0</td>\n",
              "      <td>0</td>\n",
              "      <td>1</td>\n",
              "      <td>0</td>\n",
              "      <td>0</td>\n",
              "      <td>0</td>\n",
              "      <td>1</td>\n",
              "      <td>0</td>\n",
              "      <td>0</td>\n",
              "      <td>0</td>\n",
              "      <td>1</td>\n",
              "    </tr>\n",
              "    <tr>\n",
              "      <th>4</th>\n",
              "      <td>1.602059</td>\n",
              "      <td>1</td>\n",
              "      <td>0</td>\n",
              "      <td>1.549035</td>\n",
              "      <td>-0.623020</td>\n",
              "      <td>1</td>\n",
              "      <td>1</td>\n",
              "      <td>0</td>\n",
              "      <td>0</td>\n",
              "      <td>0</td>\n",
              "      <td>1</td>\n",
              "      <td>0</td>\n",
              "      <td>0</td>\n",
              "      <td>0</td>\n",
              "      <td>1</td>\n",
              "      <td>0</td>\n",
              "      <td>1</td>\n",
              "      <td>0</td>\n",
              "      <td>0</td>\n",
              "      <td>0</td>\n",
              "      <td>1</td>\n",
              "      <td>0</td>\n",
              "    </tr>\n",
              "    <tr>\n",
              "      <th>5</th>\n",
              "      <td>1.690731</td>\n",
              "      <td>0</td>\n",
              "      <td>0</td>\n",
              "      <td>1.821183</td>\n",
              "      <td>0.013593</td>\n",
              "      <td>1</td>\n",
              "      <td>0</td>\n",
              "      <td>1</td>\n",
              "      <td>0</td>\n",
              "      <td>0</td>\n",
              "      <td>1</td>\n",
              "      <td>0</td>\n",
              "      <td>0</td>\n",
              "      <td>1</td>\n",
              "      <td>0</td>\n",
              "      <td>0</td>\n",
              "      <td>0</td>\n",
              "      <td>1</td>\n",
              "      <td>0</td>\n",
              "      <td>1</td>\n",
              "      <td>0</td>\n",
              "      <td>0</td>\n",
              "    </tr>\n",
              "    <tr>\n",
              "      <th>...</th>\n",
              "      <td>...</td>\n",
              "      <td>...</td>\n",
              "      <td>...</td>\n",
              "      <td>...</td>\n",
              "      <td>...</td>\n",
              "      <td>...</td>\n",
              "      <td>...</td>\n",
              "      <td>...</td>\n",
              "      <td>...</td>\n",
              "      <td>...</td>\n",
              "      <td>...</td>\n",
              "      <td>...</td>\n",
              "      <td>...</td>\n",
              "      <td>...</td>\n",
              "      <td>...</td>\n",
              "      <td>...</td>\n",
              "      <td>...</td>\n",
              "      <td>...</td>\n",
              "      <td>...</td>\n",
              "      <td>...</td>\n",
              "      <td>...</td>\n",
              "      <td>...</td>\n",
              "    </tr>\n",
              "    <tr>\n",
              "      <th>5104</th>\n",
              "      <td>-1.324106</td>\n",
              "      <td>0</td>\n",
              "      <td>0</td>\n",
              "      <td>-0.050089</td>\n",
              "      <td>-1.310561</td>\n",
              "      <td>0</td>\n",
              "      <td>1</td>\n",
              "      <td>0</td>\n",
              "      <td>0</td>\n",
              "      <td>1</td>\n",
              "      <td>0</td>\n",
              "      <td>0</td>\n",
              "      <td>0</td>\n",
              "      <td>0</td>\n",
              "      <td>0</td>\n",
              "      <td>1</td>\n",
              "      <td>1</td>\n",
              "      <td>0</td>\n",
              "      <td>1</td>\n",
              "      <td>0</td>\n",
              "      <td>0</td>\n",
              "      <td>0</td>\n",
              "    </tr>\n",
              "    <tr>\n",
              "      <th>5106</th>\n",
              "      <td>1.690731</td>\n",
              "      <td>0</td>\n",
              "      <td>0</td>\n",
              "      <td>0.447837</td>\n",
              "      <td>1.414142</td>\n",
              "      <td>0</td>\n",
              "      <td>1</td>\n",
              "      <td>0</td>\n",
              "      <td>0</td>\n",
              "      <td>0</td>\n",
              "      <td>1</td>\n",
              "      <td>0</td>\n",
              "      <td>0</td>\n",
              "      <td>0</td>\n",
              "      <td>1</td>\n",
              "      <td>0</td>\n",
              "      <td>0</td>\n",
              "      <td>1</td>\n",
              "      <td>0</td>\n",
              "      <td>0</td>\n",
              "      <td>1</td>\n",
              "      <td>0</td>\n",
              "    </tr>\n",
              "    <tr>\n",
              "      <th>5107</th>\n",
              "      <td>-0.348718</td>\n",
              "      <td>0</td>\n",
              "      <td>0</td>\n",
              "      <td>-0.502318</td>\n",
              "      <td>0.217309</td>\n",
              "      <td>0</td>\n",
              "      <td>1</td>\n",
              "      <td>0</td>\n",
              "      <td>0</td>\n",
              "      <td>0</td>\n",
              "      <td>1</td>\n",
              "      <td>0</td>\n",
              "      <td>0</td>\n",
              "      <td>0</td>\n",
              "      <td>1</td>\n",
              "      <td>0</td>\n",
              "      <td>1</td>\n",
              "      <td>0</td>\n",
              "      <td>0</td>\n",
              "      <td>0</td>\n",
              "      <td>1</td>\n",
              "      <td>0</td>\n",
              "    </tr>\n",
              "    <tr>\n",
              "      <th>5108</th>\n",
              "      <td>0.360655</td>\n",
              "      <td>0</td>\n",
              "      <td>0</td>\n",
              "      <td>1.372780</td>\n",
              "      <td>-0.419303</td>\n",
              "      <td>0</td>\n",
              "      <td>0</td>\n",
              "      <td>1</td>\n",
              "      <td>0</td>\n",
              "      <td>0</td>\n",
              "      <td>1</td>\n",
              "      <td>0</td>\n",
              "      <td>0</td>\n",
              "      <td>1</td>\n",
              "      <td>0</td>\n",
              "      <td>0</td>\n",
              "      <td>1</td>\n",
              "      <td>0</td>\n",
              "      <td>0</td>\n",
              "      <td>1</td>\n",
              "      <td>0</td>\n",
              "      <td>0</td>\n",
              "    </tr>\n",
              "    <tr>\n",
              "      <th>5109</th>\n",
              "      <td>0.050305</td>\n",
              "      <td>0</td>\n",
              "      <td>0</td>\n",
              "      <td>-0.450770</td>\n",
              "      <td>-0.342910</td>\n",
              "      <td>0</td>\n",
              "      <td>1</td>\n",
              "      <td>0</td>\n",
              "      <td>0</td>\n",
              "      <td>0</td>\n",
              "      <td>1</td>\n",
              "      <td>1</td>\n",
              "      <td>0</td>\n",
              "      <td>0</td>\n",
              "      <td>0</td>\n",
              "      <td>0</td>\n",
              "      <td>0</td>\n",
              "      <td>1</td>\n",
              "      <td>1</td>\n",
              "      <td>0</td>\n",
              "      <td>0</td>\n",
              "      <td>0</td>\n",
              "    </tr>\n",
              "  </tbody>\n",
              "</table>\n",
              "<p>4909 rows × 22 columns</p>\n",
              "</div>"
            ],
            "text/plain": [
              "           age  ...  smoking_status_smokes\n",
              "0     1.070029  ...                      0\n",
              "2     1.646395  ...                      0\n",
              "3     0.271984  ...                      1\n",
              "4     1.602059  ...                      0\n",
              "5     1.690731  ...                      0\n",
              "...        ...  ...                    ...\n",
              "5104 -1.324106  ...                      0\n",
              "5106  1.690731  ...                      0\n",
              "5107 -0.348718  ...                      0\n",
              "5108  0.360655  ...                      0\n",
              "5109  0.050305  ...                      0\n",
              "\n",
              "[4909 rows x 22 columns]"
            ]
          },
          "metadata": {
            "tags": []
          }
        }
      ]
    },
    {
      "cell_type": "code",
      "metadata": {
        "colab": {
          "base_uri": "https://localhost:8080/",
          "height": 456
        },
        "id": "x7ZLIKYXa7I1",
        "outputId": "b185f400-b3f9-49df-fe90-9ab769ec594a"
      },
      "source": [
        "#shuffling the data to get rid of any underlying order that may exist\n",
        "df = df.sample(frac = 1) \n",
        "display(df)"
      ],
      "execution_count": 104,
      "outputs": [
        {
          "output_type": "display_data",
          "data": {
            "text/html": [
              "<div>\n",
              "<style scoped>\n",
              "    .dataframe tbody tr th:only-of-type {\n",
              "        vertical-align: middle;\n",
              "    }\n",
              "\n",
              "    .dataframe tbody tr th {\n",
              "        vertical-align: top;\n",
              "    }\n",
              "\n",
              "    .dataframe thead th {\n",
              "        text-align: right;\n",
              "    }\n",
              "</style>\n",
              "<table border=\"1\" class=\"dataframe\">\n",
              "  <thead>\n",
              "    <tr style=\"text-align: right;\">\n",
              "      <th></th>\n",
              "      <th>age</th>\n",
              "      <th>hypertension</th>\n",
              "      <th>heart_disease</th>\n",
              "      <th>avg_glucose_level</th>\n",
              "      <th>bmi</th>\n",
              "      <th>stroke</th>\n",
              "      <th>gender_Female</th>\n",
              "      <th>gender_Male</th>\n",
              "      <th>gender_Other</th>\n",
              "      <th>ever_married_No</th>\n",
              "      <th>ever_married_Yes</th>\n",
              "      <th>work_type_Govt_job</th>\n",
              "      <th>work_type_Never_worked</th>\n",
              "      <th>work_type_Private</th>\n",
              "      <th>work_type_Self-employed</th>\n",
              "      <th>work_type_children</th>\n",
              "      <th>Residence_type_Rural</th>\n",
              "      <th>Residence_type_Urban</th>\n",
              "      <th>smoking_status_Unknown</th>\n",
              "      <th>smoking_status_formerly smoked</th>\n",
              "      <th>smoking_status_never smoked</th>\n",
              "      <th>smoking_status_smokes</th>\n",
              "    </tr>\n",
              "  </thead>\n",
              "  <tbody>\n",
              "    <tr>\n",
              "      <th>286</th>\n",
              "      <td>-0.880748</td>\n",
              "      <td>0</td>\n",
              "      <td>0</td>\n",
              "      <td>-0.252455</td>\n",
              "      <td>0.255506</td>\n",
              "      <td>0</td>\n",
              "      <td>1</td>\n",
              "      <td>0</td>\n",
              "      <td>0</td>\n",
              "      <td>1</td>\n",
              "      <td>0</td>\n",
              "      <td>0</td>\n",
              "      <td>0</td>\n",
              "      <td>1</td>\n",
              "      <td>0</td>\n",
              "      <td>0</td>\n",
              "      <td>0</td>\n",
              "      <td>1</td>\n",
              "      <td>0</td>\n",
              "      <td>0</td>\n",
              "      <td>1</td>\n",
              "      <td>0</td>\n",
              "    </tr>\n",
              "    <tr>\n",
              "      <th>2769</th>\n",
              "      <td>0.937021</td>\n",
              "      <td>0</td>\n",
              "      <td>1</td>\n",
              "      <td>-0.810933</td>\n",
              "      <td>1.235890</td>\n",
              "      <td>0</td>\n",
              "      <td>0</td>\n",
              "      <td>1</td>\n",
              "      <td>0</td>\n",
              "      <td>0</td>\n",
              "      <td>1</td>\n",
              "      <td>0</td>\n",
              "      <td>0</td>\n",
              "      <td>0</td>\n",
              "      <td>1</td>\n",
              "      <td>0</td>\n",
              "      <td>1</td>\n",
              "      <td>0</td>\n",
              "      <td>0</td>\n",
              "      <td>1</td>\n",
              "      <td>0</td>\n",
              "      <td>0</td>\n",
              "    </tr>\n",
              "    <tr>\n",
              "      <th>4936</th>\n",
              "      <td>-0.836412</td>\n",
              "      <td>0</td>\n",
              "      <td>0</td>\n",
              "      <td>-0.317284</td>\n",
              "      <td>-0.100997</td>\n",
              "      <td>0</td>\n",
              "      <td>0</td>\n",
              "      <td>1</td>\n",
              "      <td>0</td>\n",
              "      <td>1</td>\n",
              "      <td>0</td>\n",
              "      <td>0</td>\n",
              "      <td>0</td>\n",
              "      <td>1</td>\n",
              "      <td>0</td>\n",
              "      <td>0</td>\n",
              "      <td>1</td>\n",
              "      <td>0</td>\n",
              "      <td>0</td>\n",
              "      <td>1</td>\n",
              "      <td>0</td>\n",
              "      <td>0</td>\n",
              "    </tr>\n",
              "    <tr>\n",
              "      <th>4499</th>\n",
              "      <td>0.493663</td>\n",
              "      <td>0</td>\n",
              "      <td>0</td>\n",
              "      <td>-1.074752</td>\n",
              "      <td>-0.177391</td>\n",
              "      <td>0</td>\n",
              "      <td>0</td>\n",
              "      <td>1</td>\n",
              "      <td>0</td>\n",
              "      <td>0</td>\n",
              "      <td>1</td>\n",
              "      <td>0</td>\n",
              "      <td>0</td>\n",
              "      <td>1</td>\n",
              "      <td>0</td>\n",
              "      <td>0</td>\n",
              "      <td>1</td>\n",
              "      <td>0</td>\n",
              "      <td>0</td>\n",
              "      <td>0</td>\n",
              "      <td>1</td>\n",
              "      <td>0</td>\n",
              "    </tr>\n",
              "    <tr>\n",
              "      <th>4421</th>\n",
              "      <td>-1.102427</td>\n",
              "      <td>0</td>\n",
              "      <td>0</td>\n",
              "      <td>-0.141705</td>\n",
              "      <td>-0.432036</td>\n",
              "      <td>0</td>\n",
              "      <td>1</td>\n",
              "      <td>0</td>\n",
              "      <td>0</td>\n",
              "      <td>1</td>\n",
              "      <td>0</td>\n",
              "      <td>0</td>\n",
              "      <td>0</td>\n",
              "      <td>1</td>\n",
              "      <td>0</td>\n",
              "      <td>0</td>\n",
              "      <td>0</td>\n",
              "      <td>1</td>\n",
              "      <td>0</td>\n",
              "      <td>1</td>\n",
              "      <td>0</td>\n",
              "      <td>0</td>\n",
              "    </tr>\n",
              "    <tr>\n",
              "      <th>...</th>\n",
              "      <td>...</td>\n",
              "      <td>...</td>\n",
              "      <td>...</td>\n",
              "      <td>...</td>\n",
              "      <td>...</td>\n",
              "      <td>...</td>\n",
              "      <td>...</td>\n",
              "      <td>...</td>\n",
              "      <td>...</td>\n",
              "      <td>...</td>\n",
              "      <td>...</td>\n",
              "      <td>...</td>\n",
              "      <td>...</td>\n",
              "      <td>...</td>\n",
              "      <td>...</td>\n",
              "      <td>...</td>\n",
              "      <td>...</td>\n",
              "      <td>...</td>\n",
              "      <td>...</td>\n",
              "      <td>...</td>\n",
              "      <td>...</td>\n",
              "      <td>...</td>\n",
              "    </tr>\n",
              "    <tr>\n",
              "      <th>2086</th>\n",
              "      <td>-0.082703</td>\n",
              "      <td>1</td>\n",
              "      <td>1</td>\n",
              "      <td>-0.243901</td>\n",
              "      <td>1.910700</td>\n",
              "      <td>0</td>\n",
              "      <td>0</td>\n",
              "      <td>1</td>\n",
              "      <td>0</td>\n",
              "      <td>0</td>\n",
              "      <td>1</td>\n",
              "      <td>0</td>\n",
              "      <td>0</td>\n",
              "      <td>1</td>\n",
              "      <td>0</td>\n",
              "      <td>0</td>\n",
              "      <td>0</td>\n",
              "      <td>1</td>\n",
              "      <td>0</td>\n",
              "      <td>0</td>\n",
              "      <td>1</td>\n",
              "      <td>0</td>\n",
              "    </tr>\n",
              "    <tr>\n",
              "      <th>2952</th>\n",
              "      <td>-0.393054</td>\n",
              "      <td>0</td>\n",
              "      <td>0</td>\n",
              "      <td>-0.732822</td>\n",
              "      <td>-0.852200</td>\n",
              "      <td>0</td>\n",
              "      <td>0</td>\n",
              "      <td>1</td>\n",
              "      <td>0</td>\n",
              "      <td>1</td>\n",
              "      <td>0</td>\n",
              "      <td>1</td>\n",
              "      <td>0</td>\n",
              "      <td>0</td>\n",
              "      <td>0</td>\n",
              "      <td>0</td>\n",
              "      <td>0</td>\n",
              "      <td>1</td>\n",
              "      <td>1</td>\n",
              "      <td>0</td>\n",
              "      <td>0</td>\n",
              "      <td>0</td>\n",
              "    </tr>\n",
              "    <tr>\n",
              "      <th>4028</th>\n",
              "      <td>0.582335</td>\n",
              "      <td>0</td>\n",
              "      <td>0</td>\n",
              "      <td>2.153658</td>\n",
              "      <td>0.191845</td>\n",
              "      <td>0</td>\n",
              "      <td>1</td>\n",
              "      <td>0</td>\n",
              "      <td>0</td>\n",
              "      <td>0</td>\n",
              "      <td>1</td>\n",
              "      <td>0</td>\n",
              "      <td>0</td>\n",
              "      <td>1</td>\n",
              "      <td>0</td>\n",
              "      <td>0</td>\n",
              "      <td>1</td>\n",
              "      <td>0</td>\n",
              "      <td>0</td>\n",
              "      <td>0</td>\n",
              "      <td>0</td>\n",
              "      <td>1</td>\n",
              "    </tr>\n",
              "    <tr>\n",
              "      <th>1231</th>\n",
              "      <td>-1.767465</td>\n",
              "      <td>0</td>\n",
              "      <td>0</td>\n",
              "      <td>-0.426009</td>\n",
              "      <td>-0.775807</td>\n",
              "      <td>0</td>\n",
              "      <td>0</td>\n",
              "      <td>1</td>\n",
              "      <td>0</td>\n",
              "      <td>1</td>\n",
              "      <td>0</td>\n",
              "      <td>0</td>\n",
              "      <td>0</td>\n",
              "      <td>0</td>\n",
              "      <td>0</td>\n",
              "      <td>1</td>\n",
              "      <td>1</td>\n",
              "      <td>0</td>\n",
              "      <td>1</td>\n",
              "      <td>0</td>\n",
              "      <td>0</td>\n",
              "      <td>0</td>\n",
              "    </tr>\n",
              "    <tr>\n",
              "      <th>2183</th>\n",
              "      <td>-1.058091</td>\n",
              "      <td>0</td>\n",
              "      <td>0</td>\n",
              "      <td>-0.738000</td>\n",
              "      <td>0.395561</td>\n",
              "      <td>0</td>\n",
              "      <td>1</td>\n",
              "      <td>0</td>\n",
              "      <td>0</td>\n",
              "      <td>1</td>\n",
              "      <td>0</td>\n",
              "      <td>0</td>\n",
              "      <td>0</td>\n",
              "      <td>1</td>\n",
              "      <td>0</td>\n",
              "      <td>0</td>\n",
              "      <td>1</td>\n",
              "      <td>0</td>\n",
              "      <td>1</td>\n",
              "      <td>0</td>\n",
              "      <td>0</td>\n",
              "      <td>0</td>\n",
              "    </tr>\n",
              "  </tbody>\n",
              "</table>\n",
              "<p>4909 rows × 22 columns</p>\n",
              "</div>"
            ],
            "text/plain": [
              "           age  ...  smoking_status_smokes\n",
              "286  -0.880748  ...                      0\n",
              "2769  0.937021  ...                      0\n",
              "4936 -0.836412  ...                      0\n",
              "4499  0.493663  ...                      0\n",
              "4421 -1.102427  ...                      0\n",
              "...        ...  ...                    ...\n",
              "2086 -0.082703  ...                      0\n",
              "2952 -0.393054  ...                      0\n",
              "4028  0.582335  ...                      1\n",
              "1231 -1.767465  ...                      0\n",
              "2183 -1.058091  ...                      0\n",
              "\n",
              "[4909 rows x 22 columns]"
            ]
          },
          "metadata": {
            "tags": []
          }
        }
      ]
    },
    {
      "cell_type": "code",
      "metadata": {
        "colab": {
          "base_uri": "https://localhost:8080/",
          "height": 0
        },
        "id": "587eiqDrZ6OA",
        "outputId": "0161c8df-b550-442c-9d46-c75829ad9adf"
      },
      "source": [
        "#Preparing the data for training the model\n",
        "X= df.drop(['stroke'], axis=1)\n",
        "Y= df['stroke']\n",
        "print(len(X)) #number of samples"
      ],
      "execution_count": 105,
      "outputs": [
        {
          "output_type": "stream",
          "text": [
            "4909\n"
          ],
          "name": "stdout"
        }
      ]
    },
    {
      "cell_type": "code",
      "metadata": {
        "colab": {
          "base_uri": "https://localhost:8080/",
          "height": 0
        },
        "id": "k0fNKqVcbRha",
        "outputId": "1ab9198b-5eb6-4e87-cfcd-a82deecc942e"
      },
      "source": [
        "#Splitting X and Y into training, validation and test sets in 70:15:15 ratio\n",
        "\n",
        "from sklearn.model_selection import train_test_split\n",
        "# Defines ratios, w.r.t. whole dataset.\n",
        "ratio_train = 0.7\n",
        "ratio_val = 0.15\n",
        "ratio_test = 0.15\n",
        "\n",
        "# Produces test split.\n",
        "X_remaining, X_test, Y_remaining, Y_test = train_test_split(\n",
        "    X, Y, test_size=ratio_test)\n",
        "\n",
        "# Adjusts val ratio, w.r.t. remaining dataset.\n",
        "ratio_remaining = 1 - ratio_test\n",
        "ratio_val_adjusted = ratio_val / ratio_remaining\n",
        "\n",
        "# Produces train and val splits.\n",
        "X_train, X_val, Y_train, Y_val = train_test_split(\n",
        "    X_remaining, Y_remaining, test_size=ratio_val_adjusted)\n",
        "\n",
        "print(X_train.shape)\n",
        "print(Y_train.shape)\n",
        "print(X_val.shape)\n",
        "print(Y_val.shape)\n",
        "print(X_test.shape)\n",
        "print(Y_test.shape)"
      ],
      "execution_count": 106,
      "outputs": [
        {
          "output_type": "stream",
          "text": [
            "(3435, 21)\n",
            "(3435,)\n",
            "(737, 21)\n",
            "(737,)\n",
            "(737, 21)\n",
            "(737,)\n"
          ],
          "name": "stdout"
        }
      ]
    },
    {
      "cell_type": "markdown",
      "metadata": {
        "id": "XxcgTDevOPCx"
      },
      "source": [
        "##(1) Decision Tree:"
      ]
    },
    {
      "cell_type": "markdown",
      "metadata": {
        "id": "uC95r-TFOSIB"
      },
      "source": [
        "Hyperparameter Tuning by cross validation:"
      ]
    },
    {
      "cell_type": "code",
      "metadata": {
        "id": "u5pnTjYybkWK"
      },
      "source": [
        "from scipy.stats import randint\n",
        "from sklearn.tree import DecisionTreeClassifier\n",
        "from sklearn.model_selection import RandomizedSearchCV\n",
        "from sklearn.tree import DecisionTreeClassifier, export_graphviz\n",
        "from sklearn.metrics import accuracy_score, f1_score, confusion_matrix,ConfusionMatrixDisplay\n",
        "from graphviz import Source\n",
        "from IPython.display import Image\n",
        "from IPython.display import display\n",
        "from sklearn.metrics import classification_report"
      ],
      "execution_count": 111,
      "outputs": []
    },
    {
      "cell_type": "code",
      "metadata": {
        "id": "29XFLnxNOZEp"
      },
      "source": [
        "# Setup the parameters and distributions to sample from: param_dist\n",
        "param_dist = {\"max_depth\": [3, None],\n",
        "              \"max_features\": randint(1, 9),\n",
        "              \"min_samples_leaf\": randint(1, 9),\n",
        "              \"criterion\": [\"gini\", \"entropy\"]}\n",
        "\n",
        "# Instantiate a Decision Tree classifier: tree\n",
        "tree = DecisionTreeClassifier()\n",
        "\n",
        "# Instantiate the RandomizedSearchCV object: tree_cv\n",
        "tree_cv = RandomizedSearchCV(tree, param_dist, cv=5)\n",
        "\n",
        "result_dt= tree_cv.fit(X_train,Y_train)"
      ],
      "execution_count": 112,
      "outputs": []
    },
    {
      "cell_type": "code",
      "metadata": {
        "colab": {
          "base_uri": "https://localhost:8080/",
          "height": 0
        },
        "id": "24TZm_zpO1ya",
        "outputId": "f34019b3-7e9b-4a3f-fb49-a10660f37276"
      },
      "source": [
        "result_dt.best_params_ #the best hyperparameters after tuning"
      ],
      "execution_count": 113,
      "outputs": [
        {
          "output_type": "execute_result",
          "data": {
            "text/plain": [
              "{'criterion': 'gini', 'max_depth': 3, 'max_features': 4, 'min_samples_leaf': 2}"
            ]
          },
          "metadata": {
            "tags": []
          },
          "execution_count": 113
        }
      ]
    },
    {
      "cell_type": "markdown",
      "metadata": {
        "id": "Bmhq-kbcO9UI"
      },
      "source": [
        "The above parameters are the optimal ones we should consider "
      ]
    },
    {
      "cell_type": "code",
      "metadata": {
        "colab": {
          "base_uri": "https://localhost:8080/",
          "height": 0
        },
        "id": "Kkv_1i2GgLW8",
        "outputId": "4e0fdcfb-b8bf-42ee-dee2-e63267ac90ad"
      },
      "source": [
        "#Training the classifier\n",
        "model_dt = DecisionTreeClassifier(criterion='gini',max_depth=3,max_features=4, min_samples_leaf=2)\n",
        "model_dt.fit(X_train,Y_train)"
      ],
      "execution_count": 114,
      "outputs": [
        {
          "output_type": "execute_result",
          "data": {
            "text/plain": [
              "DecisionTreeClassifier(ccp_alpha=0.0, class_weight=None, criterion='gini',\n",
              "                       max_depth=3, max_features=4, max_leaf_nodes=None,\n",
              "                       min_impurity_decrease=0.0, min_impurity_split=None,\n",
              "                       min_samples_leaf=2, min_samples_split=2,\n",
              "                       min_weight_fraction_leaf=0.0, presort='deprecated',\n",
              "                       random_state=None, splitter='best')"
            ]
          },
          "metadata": {
            "tags": []
          },
          "execution_count": 114
        }
      ]
    },
    {
      "cell_type": "code",
      "metadata": {
        "colab": {
          "base_uri": "https://localhost:8080/",
          "height": 440
        },
        "id": "HRty8vubhsgC",
        "outputId": "5ebd893f-a95a-438f-e31f-8310ec7c9d5c"
      },
      "source": [
        "#Evaluating the model on validation data\n",
        "Y_pred = model_dt.predict(X_val)\n",
        "# Performance Statistics\n",
        "print(classification_report(Y_val, Y_pred))\n",
        "cm = confusion_matrix(Y_val, Y_pred)\n",
        "disp = ConfusionMatrixDisplay(confusion_matrix=cm,display_labels=[0,1])\n",
        "disp.plot();"
      ],
      "execution_count": 115,
      "outputs": [
        {
          "output_type": "stream",
          "text": [
            "              precision    recall  f1-score   support\n",
            "\n",
            "           0       0.96      1.00      0.98       707\n",
            "           1       0.00      0.00      0.00        30\n",
            "\n",
            "    accuracy                           0.96       737\n",
            "   macro avg       0.48      0.50      0.49       737\n",
            "weighted avg       0.92      0.96      0.94       737\n",
            "\n"
          ],
          "name": "stdout"
        },
        {
          "output_type": "display_data",
          "data": {
            "image/png": "[encoded data removed]",
            "text/plain": [
              "<Figure size 432x288 with 2 Axes>"
            ]
          },
          "metadata": {
            "tags": []
          }
        }
      ]
    },
    {
      "cell_type": "markdown",
      "metadata": {
        "id": "tLF_XbR-OR9F"
      },
      "source": [
        "From the above we get the accuracy of Decison tree to be 96%, with 707/737 samples being correctly classified and 30/737 being wrongly classified as 0 label instead of their true label 1. "
      ]
    },
    {
      "cell_type": "markdown",
      "metadata": {
        "id": "LTnl3vZlrAuJ"
      },
      "source": [
        "##Does ensemble of many decision trees (random forest) perform better than this?"
      ]
    },
    {
      "cell_type": "code",
      "metadata": {
        "id": "fQS9rxAYrJui"
      },
      "source": [
        "from sklearn.ensemble import RandomForestClassifier\n",
        "model_rf = RandomForestClassifier(n_estimators=20, random_state=0) #creating an instance of random forest classifier\n",
        "model_rf.fit(X_train, Y_train)\n",
        "Y_pred_rf = model_rf.predict(X_test)"
      ],
      "execution_count": 116,
      "outputs": []
    },
    {
      "cell_type": "code",
      "metadata": {
        "colab": {
          "base_uri": "https://localhost:8080/",
          "height": 442
        },
        "id": "LYRVgaEhrl-l",
        "outputId": "c66455b7-e075-4d20-bad0-cded0934f19d"
      },
      "source": [
        "# Performance Statistics\n",
        "print(classification_report(Y_test, Y_pred_rf))\n",
        "cm = confusion_matrix(Y_test, Y_pred_rf)\n",
        "disp = ConfusionMatrixDisplay(confusion_matrix=cm,display_labels=[0,1])\n",
        "disp.plot();"
      ],
      "execution_count": 117,
      "outputs": [
        {
          "output_type": "stream",
          "text": [
            "              precision    recall  f1-score   support\n",
            "\n",
            "           0       0.96      1.00      0.97       704\n",
            "           1       0.00      0.00      0.00        33\n",
            "\n",
            "    accuracy                           0.95       737\n",
            "   macro avg       0.48      0.50      0.49       737\n",
            "weighted avg       0.91      0.95      0.93       737\n",
            "\n"
          ],
          "name": "stdout"
        },
        {
          "output_type": "display_data",
          "data": {
            "image/png": "[encoded data removed]",
            "text/plain": [
              "<Figure size 432x288 with 2 Axes>"
            ]
          },
          "metadata": {
            "tags": []
          }
        }
      ]
    },
    {
      "cell_type": "markdown",
      "metadata": {
        "id": "CGrQ-OU3sKp8"
      },
      "source": [
        "From the above, we notice that the performance of the ensemble is not better than that of a single decision tree classifier, since it has an accuracy of 95%. This is because aggregated/ensemble models are not universally better than their single counterparts. They are better only if the single models suffer of instability. In our case, decison tree performed quite accurately. In cases of less training data like ours, decision tree performs better."
      ]
    },
    {
      "cell_type": "markdown",
      "metadata": {
        "id": "HDYjlfi2n0ik"
      },
      "source": [
        "## (2) Logistic Regression:"
      ]
    },
    {
      "cell_type": "code",
      "metadata": {
        "id": "MVBczh4MoLWV"
      },
      "source": [
        "#importing the required tools\n",
        "from sklearn.preprocessing import StandardScaler\n",
        "from sklearn.linear_model import LogisticRegression\n",
        "from sklearn.model_selection import train_test_split\n",
        "from sklearn.metrics import classification_report, confusion_matrix, ConfusionMatrixDisplay, roc_curve, roc_auc_score, precision_recall_curve"
      ],
      "execution_count": 118,
      "outputs": []
    },
    {
      "cell_type": "markdown",
      "metadata": {
        "id": "3oXWckOW_t-n"
      },
      "source": [
        "##Model Training and Predictions\n",
        "##Logistic Regression classification\n",
        "In the Logistic Regression model, the probabilities describing the possible outcomes of a single trial are modeled using a logistic function.\n",
        "\n",
        "The standard logistic function is given as:$$\n",
        "f(x)=\\frac{1}{1+e^{-x}}=\\frac{e^{x}}{e^{x}+1}\n",
        "$$\n",
        "\n",
        "Thus, for the logistic regression model:\n",
        "\n",
        "$$\n",
        "P\\left(y=1\\right)=\\frac{1}{1+\\exp \\left(-{w}^{\\top} {x}\\right)}\n",
        "$$"
      ]
    },
    {
      "cell_type": "code",
      "metadata": {
        "id": "r8MNhC1ztDSt"
      },
      "source": [
        "# Fit model to training data\n",
        "classifier = LogisticRegression(penalty='l2', tol=1e-6, max_iter=10000)\n",
        "classifier.fit(X_train, Y_train)\n",
        "# Evaluate on test data \n",
        "y_pred = classifier.predict(X_test)"
      ],
      "execution_count": 119,
      "outputs": []
    },
    {
      "cell_type": "markdown",
      "metadata": {
        "id": "t9Bb4BC1_5F-"
      },
      "source": [
        "##Model Performance"
      ]
    },
    {
      "cell_type": "code",
      "metadata": {
        "colab": {
          "base_uri": "https://localhost:8080/",
          "height": 299
        },
        "id": "q0dM8LZi0jZi",
        "outputId": "e4d767d2-ba77-4a10-c91e-376adc09a356"
      },
      "source": [
        "# set default Seaborn theme\n",
        "sns.set_theme()\n",
        "# Confusion Matrix\n",
        "class_labels = df['smoking_status_smokes'].unique()\n",
        "cmx = confusion_matrix(Y_test, y_pred, labels=class_labels)\n",
        "disp = ConfusionMatrixDisplay(confusion_matrix=cmx, display_labels=class_labels)\n",
        "# switch off Seaborn theme for CM plot\n",
        "sns.reset_orig()\n",
        "disp.plot()"
      ],
      "execution_count": 120,
      "outputs": [
        {
          "output_type": "execute_result",
          "data": {
            "text/plain": [
              "<sklearn.metrics._plot.confusion_matrix.ConfusionMatrixDisplay at 0x7f24703e7cd0>"
            ]
          },
          "metadata": {
            "tags": []
          },
          "execution_count": 120
        },
        {
          "output_type": "display_data",
          "data": {
            "image/png": "[encoded data removed]",
            "text/plain": [
              "<Figure size 432x288 with 2 Axes>"
            ]
          },
          "metadata": {
            "tags": [],
            "needs_background": "light"
          }
        }
      ]
    },
    {
      "cell_type": "code",
      "metadata": {
        "colab": {
          "base_uri": "https://localhost:8080/",
          "height": 0
        },
        "id": "3sXrbNAu232x",
        "outputId": "c53bd20b-4150-4101-e9ce-e843da983438"
      },
      "source": [
        "# Performance Statistics\n",
        "print(classification_report(Y_test, y_pred))"
      ],
      "execution_count": 121,
      "outputs": [
        {
          "output_type": "stream",
          "text": [
            "              precision    recall  f1-score   support\n",
            "\n",
            "           0       0.96      1.00      0.98       704\n",
            "           1       0.00      0.00      0.00        33\n",
            "\n",
            "    accuracy                           0.95       737\n",
            "   macro avg       0.48      0.50      0.49       737\n",
            "weighted avg       0.91      0.95      0.93       737\n",
            "\n"
          ],
          "name": "stdout"
        }
      ]
    },
    {
      "cell_type": "markdown",
      "metadata": {
        "id": "1CBMxRPy3kj7"
      },
      "source": [
        "##Understanding the results\n",
        "The model is able to achieve 95% classification accuracy on the test set (15% split) consisting of 737 examples. This means that the Logistic Regresssion model was able to correctly predict the Outcome (both positive/negative) for 704/737 test examples."
      ]
    },
    {
      "cell_type": "markdown",
      "metadata": {
        "id": "tEA5ghFaAN6i"
      },
      "source": [
        "##ROC and PR Curves\n",
        "When evaluating binary decision problems, one should use Receiver Operator Characteristic (ROC) curves, which show how the number of correctly classified positive examples varies with the number of incorrectly classified negative examples. However, ROC curves can present an overly optimistic view of an algorithm’s performance if there is a large skew in the class distribution.\n",
        "\n",
        "Precision-Recall (PR) curves, often used in Information Retrieval, have been cited as an alternative to ROC curves for tasks with a large skew in the class distribution.\n",
        "\n",
        "In ROC space, one plots the False Positive Rate (FPR) on the x-axis and the True Positive Rate (TPR) on the y-axis. The FPR measures the fraction of negative examples that are misclassified as positive. The TPR measures the fraction of positive examples that are correctly labeled. In PR space, one plots Recall on the x-axis and Precision on the y-axis. Recall is the same as TPR, whereas Precision measures that fraction of examples classified as positive that are truly positive."
      ]
    },
    {
      "cell_type": "code",
      "metadata": {
        "id": "F7IAK00t4s5h"
      },
      "source": [
        "# switch to default Seaborn theme\n",
        "sns.set_theme()\n",
        "\n",
        "def plot_curve(y1, x1, y2, x2, y_label,  x_label, y1_label, y2_label, title):\n",
        "    \"\"\"For plotting metrics of 2 models\"\"\"\n",
        "    plt.figure()\n",
        "    plt.plot(x1, y1, label=y1_label)\n",
        "    if not (x2 is None or y2 is None or y2_label is None):\n",
        "        plt.plot(x2, y2, label=y2_label, linestyle='--')\n",
        "    plt.xlabel(x_label)\n",
        "    plt.ylabel(y_label)\n",
        "    plt.title(title)\n",
        "    plt.legend(loc=\"lower right\")\n",
        "    plt.show()"
      ],
      "execution_count": 122,
      "outputs": []
    },
    {
      "cell_type": "code",
      "metadata": {
        "colab": {
          "base_uri": "https://localhost:8080/",
          "height": 301
        },
        "id": "t5G5fJPG5Hfn",
        "outputId": "9a8f04bb-f8b2-462f-a70c-c9415c4d7d19"
      },
      "source": [
        "# ROC curve\n",
        "\n",
        "# get probabilities of test sample being labelled as positive (1) from the LR model.\n",
        "lr_probs = classifier.predict_proba(X_test)[:, 1]\n",
        "\n",
        "# get roc curve vectors for plotting\n",
        "fpr, tpr, thresholds = roc_curve(Y_test, lr_probs)\n",
        "\n",
        "# Compare with baseline 'No Skill' model which returns prob = 0 for all samples\n",
        "ns_probs = [0.] * len(lr_probs)\n",
        "ns_fpr, ns_tpr, _ = roc_curve(Y_test, ns_probs)\n",
        "\n",
        "# Area under ROC curve\n",
        "lr_auc_roc = roc_auc_score(Y_test, lr_probs)\n",
        "\n",
        "# plot AUC\n",
        "plot_curve(y1=tpr,\n",
        "           x1=fpr,\n",
        "           y2=ns_tpr,\n",
        "           x2=ns_fpr,\n",
        "           y_label='True Positive Rate',\n",
        "           x_label='False Positive Rate',\n",
        "           y1_label='Logistic Regression (area = %0.2f)' % lr_auc_roc,\n",
        "           y2_label='No Skill Model (area = %0.2f)' % 0.5,\n",
        "           title='ROC Curve')"
      ],
      "execution_count": 123,
      "outputs": [
        {
          "output_type": "display_data",
          "data": {
            "image/png": "[encoded data removed]",
            "text/plain": [
              "<Figure size 432x288 with 1 Axes>"
            ]
          },
          "metadata": {
            "tags": []
          }
        }
      ]
    },
    {
      "cell_type": "code",
      "metadata": {
        "colab": {
          "base_uri": "https://localhost:8080/",
          "height": 301
        },
        "id": "t8cgOOjj5sAL",
        "outputId": "71791e5d-61f5-453b-ddda-90436cc6c5e1"
      },
      "source": [
        "# PR Curve\n",
        "lr_precision, lr_recall, _ = precision_recall_curve(Y_test, lr_probs)\n",
        "\n",
        "# plot PR curve\n",
        "plot_curve(y1=lr_precision,\n",
        "           x1=lr_recall,\n",
        "           y2=None,\n",
        "           x2=None,\n",
        "           y_label='Precision',\n",
        "           x_label='Recall',\n",
        "           y1_label='Logistic Regression',\n",
        "           y2_label=None,\n",
        "           title='PR Curve')"
      ],
      "execution_count": 124,
      "outputs": [
        {
          "output_type": "display_data",
          "data": {
            "image/png": "[encoded data removed]",
            "text/plain": [
              "<Figure size 432x288 with 1 Axes>"
            ]
          },
          "metadata": {
            "tags": []
          }
        }
      ]
    },
    {
      "cell_type": "markdown",
      "metadata": {
        "id": "PFKjC6yVAuep"
      },
      "source": [
        "\n",
        "\n",
        "##(3) Support Vector Machine (SVM-C) :"
      ]
    },
    {
      "cell_type": "markdown",
      "metadata": {
        "id": "YW6uXOaH7QiP"
      },
      "source": [
        "Hyperparameter tuning using cross validation:\n",
        "\n",
        "\n"
      ]
    },
    {
      "cell_type": "code",
      "metadata": {
        "id": "raGskLaAhtU-"
      },
      "source": [
        "from sklearn.model_selection import RepeatedStratifiedKFold\n",
        "from sklearn.model_selection import GridSearchCV\n",
        "from sklearn.svm import SVC\n",
        "\n",
        "# define model and parameters\n",
        "model_svc = SVC()\n",
        "kernel = ['poly', 'rbf']\n",
        "C = [ 10, 1.0, 0.1, 0.01]\n",
        "gamma = ['scale']\n",
        "\n",
        "# define grid search\n",
        "grid = dict(kernel=kernel,C=C,gamma=gamma)\n",
        "cv = RepeatedStratifiedKFold(n_splits=10, n_repeats=3, random_state=1)\n",
        "grid_search = GridSearchCV(estimator=model_svc, param_grid=grid, n_jobs=-1, cv=cv, scoring='accuracy',error_score=0)\n",
        "result_svc = grid_search.fit(X_train, Y_train)"
      ],
      "execution_count": 125,
      "outputs": []
    },
    {
      "cell_type": "code",
      "metadata": {
        "colab": {
          "base_uri": "https://localhost:8080/",
          "height": 0
        },
        "id": "lSFybNZCjxT6",
        "outputId": "91cd0f1f-4b2b-4dcc-fdb3-2bb4500242b9"
      },
      "source": [
        "result_svc.best_params_ #the best hyperparameters after tuning"
      ],
      "execution_count": 126,
      "outputs": [
        {
          "output_type": "execute_result",
          "data": {
            "text/plain": [
              "{'C': 1.0, 'gamma': 'scale', 'kernel': 'rbf'}"
            ]
          },
          "metadata": {
            "tags": []
          },
          "execution_count": 126
        }
      ]
    },
    {
      "cell_type": "code",
      "metadata": {
        "colab": {
          "base_uri": "https://localhost:8080/",
          "height": 0
        },
        "id": "uTMxutavj3kf",
        "outputId": "d1495bcc-f543-4c68-d005-91c9f093fcfc"
      },
      "source": [
        "# Fit this best model to training data\n",
        "classifier_svc = SVC(C=1.0, gamma='scale', kernel='rbf')\n",
        "classifier_svc.fit(X_train, Y_train)"
      ],
      "execution_count": 127,
      "outputs": [
        {
          "output_type": "execute_result",
          "data": {
            "text/plain": [
              "SVC(C=1.0, break_ties=False, cache_size=200, class_weight=None, coef0=0.0,\n",
              "    decision_function_shape='ovr', degree=3, gamma='scale', kernel='rbf',\n",
              "    max_iter=-1, probability=False, random_state=None, shrinking=True,\n",
              "    tol=0.001, verbose=False)"
            ]
          },
          "metadata": {
            "tags": []
          },
          "execution_count": 127
        }
      ]
    },
    {
      "cell_type": "code",
      "metadata": {
        "id": "vrz4Og9AkOos"
      },
      "source": [
        "# Evaluate on validation set \n",
        "Y_pred = classifier_svc.predict(X_val)"
      ],
      "execution_count": 128,
      "outputs": []
    },
    {
      "cell_type": "markdown",
      "metadata": {
        "id": "tvlB_BfUlh3F"
      },
      "source": [
        "Model Performance:"
      ]
    },
    {
      "cell_type": "code",
      "metadata": {
        "colab": {
          "base_uri": "https://localhost:8080/",
          "height": 457
        },
        "id": "KGj3R_KIk0zM",
        "outputId": "387a66a3-cd7d-4451-df58-c72d398b2195"
      },
      "source": [
        "# Performance Statistics\n",
        "print(classification_report(Y_val, Y_pred))\n",
        "cm = confusion_matrix(Y_val, Y_pred)\n",
        "disp = ConfusionMatrixDisplay(confusion_matrix=cm,display_labels=[0,1])\n",
        "disp.plot();\n",
        "\n",
        "from sklearn.metrics import mean_squared_error\n",
        "print(f\"Mean Square Error: {mean_squared_error(Y_val,Y_pred)}\")"
      ],
      "execution_count": 129,
      "outputs": [
        {
          "output_type": "stream",
          "text": [
            "              precision    recall  f1-score   support\n",
            "\n",
            "           0       0.96      1.00      0.98       707\n",
            "           1       0.00      0.00      0.00        30\n",
            "\n",
            "    accuracy                           0.96       737\n",
            "   macro avg       0.48      0.50      0.49       737\n",
            "weighted avg       0.92      0.96      0.94       737\n",
            "\n",
            "Mean Square Error: 0.0407055630936228\n"
          ],
          "name": "stdout"
        },
        {
          "output_type": "display_data",
          "data": {
            "image/png": "[encoded data removed]",
            "text/plain": [
              "<Figure size 432x288 with 2 Axes>"
            ]
          },
          "metadata": {
            "tags": []
          }
        }
      ]
    },
    {
      "cell_type": "markdown",
      "metadata": {
        "id": "-Al62K7IPuFy"
      },
      "source": [
        "From the above we get the accuracy of SVM to be 96%, with 707/737 samples being correctly classified and 30/737 being wrongly classified as 0 label instead of their true label 1. "
      ]
    },
    {
      "cell_type": "markdown",
      "metadata": {
        "id": "tWyVm52llkNo"
      },
      "source": [
        "##(4) K-nearest neighbours (KNN):"
      ]
    },
    {
      "cell_type": "markdown",
      "metadata": {
        "id": "H8vaPvtelw7Z"
      },
      "source": [
        "Hyperparameter tuning using cross validation:"
      ]
    },
    {
      "cell_type": "code",
      "metadata": {
        "id": "fC7rBoNMluJK"
      },
      "source": [
        "from sklearn.neighbors import KNeighborsClassifier\n",
        "\n",
        "model_knn = KNeighborsClassifier()\n",
        "n_neighbors = range(1, 21, 2)\n",
        "weights = ['uniform', 'distance']\n",
        "metric = ['euclidean', 'manhattan', 'minkowski']\n",
        "\n",
        "# define grid search\n",
        "grid = dict(n_neighbors=n_neighbors,weights=weights,metric=metric)\n",
        "cv = RepeatedStratifiedKFold(n_splits=10, n_repeats=3, random_state=1)\n",
        "grid_search = GridSearchCV(estimator=model_knn, param_grid=grid, n_jobs=-1, cv=cv, scoring='accuracy',error_score=0)\n",
        "result_knn = grid_search.fit(X_train, Y_train)"
      ],
      "execution_count": 130,
      "outputs": []
    },
    {
      "cell_type": "code",
      "metadata": {
        "colab": {
          "base_uri": "https://localhost:8080/",
          "height": 0
        },
        "id": "uk72q5E9mIL_",
        "outputId": "2b9f06f4-26b5-4903-ec27-06e34c7fbbcc"
      },
      "source": [
        "result_knn.best_params_ #the best hyperparameters after tuning"
      ],
      "execution_count": 131,
      "outputs": [
        {
          "output_type": "execute_result",
          "data": {
            "text/plain": [
              "{'metric': 'euclidean', 'n_neighbors': 13, 'weights': 'uniform'}"
            ]
          },
          "metadata": {
            "tags": []
          },
          "execution_count": 131
        }
      ]
    },
    {
      "cell_type": "code",
      "metadata": {
        "colab": {
          "base_uri": "https://localhost:8080/",
          "height": 0
        },
        "id": "63gcfaVpmhVG",
        "outputId": "6a608cd2-2778-45c1-ce53-7c376af078a5"
      },
      "source": [
        "classifier_knn=KNeighborsClassifier(metric='euclidean',n_neighbors=13,weights='uniform')\n",
        "classifier_knn.fit(X_train, Y_train)"
      ],
      "execution_count": 132,
      "outputs": [
        {
          "output_type": "execute_result",
          "data": {
            "text/plain": [
              "KNeighborsClassifier(algorithm='auto', leaf_size=30, metric='euclidean',\n",
              "                     metric_params=None, n_jobs=None, n_neighbors=13, p=2,\n",
              "                     weights='uniform')"
            ]
          },
          "metadata": {
            "tags": []
          },
          "execution_count": 132
        }
      ]
    },
    {
      "cell_type": "code",
      "metadata": {
        "id": "1nh8mxEym30_"
      },
      "source": [
        "# Evaluate on validation set \n",
        "Y_pred_knn = classifier_knn.predict(X_val)"
      ],
      "execution_count": 133,
      "outputs": []
    },
    {
      "cell_type": "markdown",
      "metadata": {
        "id": "ow-L88r2nLbh"
      },
      "source": [
        "Model performance:"
      ]
    },
    {
      "cell_type": "code",
      "metadata": {
        "colab": {
          "base_uri": "https://localhost:8080/",
          "height": 440
        },
        "id": "sWOhIR5om8xB",
        "outputId": "dd3affff-1c4c-4212-d8f3-4698c2ed8a94"
      },
      "source": [
        "# Performance Statistics\n",
        "print(classification_report(Y_val, Y_pred_knn))\n",
        "cm = confusion_matrix(Y_val, Y_pred_knn)\n",
        "disp = ConfusionMatrixDisplay(confusion_matrix=cm,display_labels=[0,1])\n",
        "disp.plot();"
      ],
      "execution_count": 134,
      "outputs": [
        {
          "output_type": "stream",
          "text": [
            "              precision    recall  f1-score   support\n",
            "\n",
            "           0       0.96      1.00      0.98       707\n",
            "           1       0.00      0.00      0.00        30\n",
            "\n",
            "    accuracy                           0.96       737\n",
            "   macro avg       0.48      0.50      0.49       737\n",
            "weighted avg       0.92      0.96      0.94       737\n",
            "\n"
          ],
          "name": "stdout"
        },
        {
          "output_type": "display_data",
          "data": {
            "image/png": "[encoded data removed]",
            "text/plain": [
              "<Figure size 432x288 with 2 Axes>"
            ]
          },
          "metadata": {
            "tags": []
          }
        }
      ]
    },
    {
      "cell_type": "markdown",
      "metadata": {
        "id": "y4z57vmWP85m"
      },
      "source": [
        "From the above we get the accuracy of KNN to be 96%, with 707/737 samples being correctly classified and 30/737 being wrongly classified as 0 label instead of their true label 1. "
      ]
    },
    {
      "cell_type": "markdown",
      "metadata": {
        "id": "T0gZANtWtAxX"
      },
      "source": [
        "From the above four classification models, we observe that the accuracy of decision tree, svm and knn is more than that of logistic regression. This can be attributed to the factor of hyperparameter tuning that was done for all except logistic regression, and how different problems respond differently to various models. Thus, we have shown how cross validation on a validation set using either RandomSearchCV or GridSearchCV can help us optimize the parameters for the machine learning model. Also, that according to the problem and data at hand, an appropriate model should be built."
      ]
    },
    {
      "cell_type": "markdown",
      "metadata": {
        "id": "1g0lhxhftn9G"
      },
      "source": [
        "##How would the performance change if we carry out Dimension Reduction using PCA?"
      ]
    },
    {
      "cell_type": "code",
      "metadata": {
        "colab": {
          "base_uri": "https://localhost:8080/",
          "height": 0
        },
        "id": "EpuW-PlzaoNj",
        "outputId": "2b33d28b-5edb-4c38-cb0d-8920c620482a"
      },
      "source": [
        "#Preparing the data for training the model\n",
        "X_pca= df.drop(['stroke'], axis=1)\n",
        "Y_pca= df['stroke']\n",
        "print(len(X)) #number of samples"
      ],
      "execution_count": 135,
      "outputs": [
        {
          "output_type": "stream",
          "text": [
            "4909\n"
          ],
          "name": "stdout"
        }
      ]
    },
    {
      "cell_type": "code",
      "metadata": {
        "id": "wsegp3YrtvOI"
      },
      "source": [
        "from sklearn.decomposition import PCA\n",
        "pca = PCA(n_components=2)\n",
        "principalComponents = pca.fit_transform(X_pca)\n",
        "principalDf = pd.DataFrame(data = principalComponents\n",
        "             , columns = ['principal component 1', 'principal component 2'])"
      ],
      "execution_count": 136,
      "outputs": []
    },
    {
      "cell_type": "code",
      "metadata": {
        "colab": {
          "base_uri": "https://localhost:8080/",
          "height": 419
        },
        "id": "6RC8m9O2YtSj",
        "outputId": "1e4d5c25-dcc2-4498-e269-984b849e23cb"
      },
      "source": [
        "display(principalDf) #new X with two principal components along which the data will be projected"
      ],
      "execution_count": 137,
      "outputs": [
        {
          "output_type": "display_data",
          "data": {
            "text/html": [
              "<div>\n",
              "<style scoped>\n",
              "    .dataframe tbody tr th:only-of-type {\n",
              "        vertical-align: middle;\n",
              "    }\n",
              "\n",
              "    .dataframe tbody tr th {\n",
              "        vertical-align: top;\n",
              "    }\n",
              "\n",
              "    .dataframe thead th {\n",
              "        text-align: right;\n",
              "    }\n",
              "</style>\n",
              "<table border=\"1\" class=\"dataframe\">\n",
              "  <thead>\n",
              "    <tr style=\"text-align: right;\">\n",
              "      <th></th>\n",
              "      <th>principal component 1</th>\n",
              "      <th>principal component 2</th>\n",
              "    </tr>\n",
              "  </thead>\n",
              "  <tbody>\n",
              "    <tr>\n",
              "      <th>0</th>\n",
              "      <td>-0.723491</td>\n",
              "      <td>-0.162518</td>\n",
              "    </tr>\n",
              "    <tr>\n",
              "      <th>1</th>\n",
              "      <td>1.223375</td>\n",
              "      <td>-1.125765</td>\n",
              "    </tr>\n",
              "    <tr>\n",
              "      <th>2</th>\n",
              "      <td>-0.930818</td>\n",
              "      <td>0.088276</td>\n",
              "    </tr>\n",
              "    <tr>\n",
              "      <th>3</th>\n",
              "      <td>0.105200</td>\n",
              "      <td>-1.096630</td>\n",
              "    </tr>\n",
              "    <tr>\n",
              "      <th>4</th>\n",
              "      <td>-1.174210</td>\n",
              "      <td>0.168930</td>\n",
              "    </tr>\n",
              "    <tr>\n",
              "      <th>...</th>\n",
              "      <td>...</td>\n",
              "      <td>...</td>\n",
              "    </tr>\n",
              "    <tr>\n",
              "      <th>4904</th>\n",
              "      <td>1.211260</td>\n",
              "      <td>-0.680081</td>\n",
              "    </tr>\n",
              "    <tr>\n",
              "      <th>4905</th>\n",
              "      <td>-1.459815</td>\n",
              "      <td>-0.073711</td>\n",
              "    </tr>\n",
              "    <tr>\n",
              "      <th>4906</th>\n",
              "      <td>1.495909</td>\n",
              "      <td>1.625107</td>\n",
              "    </tr>\n",
              "    <tr>\n",
              "      <th>4907</th>\n",
              "      <td>-2.385324</td>\n",
              "      <td>0.582128</td>\n",
              "    </tr>\n",
              "    <tr>\n",
              "      <th>4908</th>\n",
              "      <td>-1.171335</td>\n",
              "      <td>-0.456219</td>\n",
              "    </tr>\n",
              "  </tbody>\n",
              "</table>\n",
              "<p>4909 rows × 2 columns</p>\n",
              "</div>"
            ],
            "text/plain": [
              "      principal component 1  principal component 2\n",
              "0                 -0.723491              -0.162518\n",
              "1                  1.223375              -1.125765\n",
              "2                 -0.930818               0.088276\n",
              "3                  0.105200              -1.096630\n",
              "4                 -1.174210               0.168930\n",
              "...                     ...                    ...\n",
              "4904               1.211260              -0.680081\n",
              "4905              -1.459815              -0.073711\n",
              "4906               1.495909               1.625107\n",
              "4907              -2.385324               0.582128\n",
              "4908              -1.171335              -0.456219\n",
              "\n",
              "[4909 rows x 2 columns]"
            ]
          },
          "metadata": {
            "tags": []
          }
        }
      ]
    },
    {
      "cell_type": "code",
      "metadata": {
        "id": "LPE0tba0bEpF"
      },
      "source": [
        "#defining a function for splitting the data\n",
        "def split(X, Y, test_ratio = 0.4):\n",
        "  # returns a numpy array after the split\n",
        "  n = len(X)\n",
        "  train_ratio = 1-test_ratio\n",
        "  train_size = int(train_ratio*n)\n",
        "  X_train = X[:train_size].to_numpy()\n",
        "  Y_train = Y[:train_size].to_numpy()\n",
        "\n",
        "  X_test = X[train_size:].to_numpy()\n",
        "  Y_test = Y[train_size:].to_numpy() \n",
        "\n",
        "  return X_train, X_test, Y_train, Y_test"
      ],
      "execution_count": 138,
      "outputs": []
    },
    {
      "cell_type": "code",
      "metadata": {
        "colab": {
          "base_uri": "https://localhost:8080/",
          "height": 0
        },
        "id": "WbB5kiC_bHGW",
        "outputId": "4409957a-e264-45ac-e959-940d7c539723"
      },
      "source": [
        "X_train_pca, X_test_pca, Y_train_pca, Y_test_pca = split(X_pca,Y_pca,0.4) #splitting our datasets according to the ratio given of 60:40\n",
        "\n",
        "print(X_train_pca.shape)\n",
        "print(X_test_pca.shape)\n",
        "print(Y_train_pca.shape)\n",
        "print(Y_test_pca.shape)"
      ],
      "execution_count": 139,
      "outputs": [
        {
          "output_type": "stream",
          "text": [
            "(2945, 21)\n",
            "(1964, 21)\n",
            "(2945,)\n",
            "(1964,)\n"
          ],
          "name": "stdout"
        }
      ]
    },
    {
      "cell_type": "code",
      "metadata": {
        "id": "YDZypN2rbWtU"
      },
      "source": [
        "from sklearn.svm import SVC\n",
        "classifier_svc_pca = SVC()\n",
        "classifier_svc_pca.fit(X_train_pca, Y_train_pca)\n",
        "\n",
        "# Evaluate on test set \n",
        "Y_pred_pca = classifier_svc_pca.predict(X_test_pca)"
      ],
      "execution_count": 140,
      "outputs": []
    },
    {
      "cell_type": "code",
      "metadata": {
        "colab": {
          "base_uri": "https://localhost:8080/",
          "height": 455
        },
        "id": "fiuY3kscbx94",
        "outputId": "0dc55e48-6437-4e6d-bca8-c929b79696a3"
      },
      "source": [
        "# Performance Statistics\n",
        "from sklearn.metrics import classification_report, confusion_matrix, ConfusionMatrixDisplay\n",
        "print(classification_report(Y_test_pca, Y_pred_pca))\n",
        "cm = confusion_matrix(Y_test_pca, Y_pred_pca)\n",
        "disp = ConfusionMatrixDisplay(confusion_matrix=cm,display_labels=[0,1])\n",
        "disp.plot();\n",
        "\n",
        "from sklearn.metrics import mean_squared_error\n",
        "print(f\"Mean Square Error for Test Set: {mean_squared_error(Y_test_pca,Y_pred_pca)}\")"
      ],
      "execution_count": 141,
      "outputs": [
        {
          "output_type": "stream",
          "text": [
            "              precision    recall  f1-score   support\n",
            "\n",
            "           0       0.95      1.00      0.97      1868\n",
            "           1       0.00      0.00      0.00        96\n",
            "\n",
            "    accuracy                           0.95      1964\n",
            "   macro avg       0.48      0.50      0.49      1964\n",
            "weighted avg       0.90      0.95      0.93      1964\n",
            "\n",
            "Mean Square Error for Test Set: 0.048879837067209775\n"
          ],
          "name": "stdout"
        },
        {
          "output_type": "display_data",
          "data": {
            "image/png": "[encoded data removed]",
            "text/plain": [
              "<Figure size 432x288 with 2 Axes>"
            ]
          },
          "metadata": {
            "tags": []
          }
        }
      ]
    },
    {
      "cell_type": "markdown",
      "metadata": {
        "id": "bJJ0ZR8Icrkc"
      },
      "source": [
        "Therefore, by reducing the dimension of features from 21 columns to 3 principal components, and using svm classifier, we observe that the accuracy has reduced, since the mean square error is more for svc with pca. This means that pca is not a necessary tool to be applied if the features are not high in number and are manageable without it."
      ]
    },
    {
      "cell_type": "markdown",
      "metadata": {
        "id": "rTCfaIkdfFqY"
      },
      "source": [
        "Visualizing the data after projecting the dimension to 2 components:"
      ]
    },
    {
      "cell_type": "code",
      "metadata": {
        "id": "UcRDd6cQgDSd"
      },
      "source": [
        "finalDf = pd.concat([principalDf, df[['stroke']]], axis = 1)"
      ],
      "execution_count": 142,
      "outputs": []
    },
    {
      "cell_type": "code",
      "metadata": {
        "colab": {
          "base_uri": "https://localhost:8080/",
          "height": 525
        },
        "id": "Y3gwfAq7fL-u",
        "outputId": "5846583d-5ea9-42dd-b2d5-133498e6f57a"
      },
      "source": [
        "fig = plt.figure(figsize = (8,8))\n",
        "ax = fig.add_subplot(1,1,1) \n",
        "ax.set_xlabel('Principal Component 1', fontsize = 15)\n",
        "ax.set_ylabel('Principal Component 2', fontsize = 15)\n",
        "ax.set_title('2 component PCA', fontsize = 20)\n",
        "targets = [1,0]\n",
        "colors = ['r', 'g']\n",
        "for target, color in zip(targets,colors):\n",
        "    indicesToKeep = finalDf['stroke'] == target\n",
        "    ax.scatter(finalDf.loc[indicesToKeep, 'principal component 1']\n",
        "               , finalDf.loc[indicesToKeep, 'principal component 2']\n",
        "               , c = color\n",
        "               , s = 50)\n",
        "ax.legend(targets)\n",
        "ax.grid()"
      ],
      "execution_count": 143,
      "outputs": [
        {
          "output_type": "display_data",
          "data": {
            "image/png": "[encoded data removed]",
            "text/plain": [
              "<Figure size 576x576 with 1 Axes>"
            ]
          },
          "metadata": {
            "tags": []
          }
        }
      ]
    },
    {
      "cell_type": "markdown",
      "metadata": {
        "id": "Jb40jWSAgkw5"
      },
      "source": [
        "No distinct cluster/pattern is found while visualizing the dimension reduced scatter plot of the data recorded for heart strokes, which may be due to the low number of data records given in the set for patients who have experienced a stroke (stroke=1)."
      ]
    }
  ]
}